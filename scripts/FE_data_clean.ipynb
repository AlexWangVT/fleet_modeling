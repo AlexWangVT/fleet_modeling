{
 "cells": [
  {
   "cell_type": "code",
   "execution_count": 21,
   "metadata": {},
   "outputs": [
    {
     "name": "stdout",
     "output_type": "stream",
     "text": [
      "❌ Error: That compression method is not supported - Unsupported compression method\n",
      "❌ Error: That compression method is not supported - Unsupported compression method\n",
      "✅ Extracted successfully!\n",
      "✅ Extracted successfully!\n",
      "✅ Extracted successfully!\n",
      "✅ Extracted successfully!\n",
      "❌ Error: That compression method is not supported - Unsupported compression method\n",
      "✅ Extracted successfully!\n",
      "✅ Extracted successfully!\n",
      "❌ Error: That compression method is not supported - Unsupported compression method\n",
      "❌ Error: That compression method is not supported - Unsupported compression method\n",
      "❌ Error: That compression method is not supported - Unsupported compression method\n",
      "✅ Extracted successfully!\n",
      "✅ Extracted successfully!\n",
      "✅ Extracted successfully!\n",
      "✅ Extracted successfully!\n",
      "❌ Error: That compression method is not supported - Unsupported compression method\n",
      "❌ Error: That compression method is not supported - Unsupported compression method\n",
      "❌ Error: That compression method is not supported - Unsupported compression method\n",
      "✅ Extracted successfully!\n",
      "✅ Extracted successfully!\n",
      "✅ Extracted successfully!\n",
      "✅ Extracted successfully!\n",
      "✅ Extracted successfully!\n",
      "✅ Extracted successfully!\n",
      "✅ Extracted successfully!\n",
      "✅ Extracted successfully!\n",
      "✅ Extracted successfully!\n",
      "✅ Extracted successfully!\n",
      "❌ Error: That compression method is not supported - Unsupported compression method\n",
      "❌ Error: That compression method is not supported - Unsupported compression method\n",
      "❌ Error: That compression method is not supported - Unsupported compression method\n",
      "✅ Extracted successfully!\n",
      "✅ Extracted successfully!\n",
      "❌ Error: That compression method is not supported - Unsupported compression method\n",
      "❌ Error: That compression method is not supported - Unsupported compression method\n",
      "❌ Error: That compression method is not supported - Unsupported compression method\n",
      "✅ Extracted successfully!\n",
      "✅ Extracted successfully!\n",
      "✅ Extracted successfully!\n",
      "✅ Extracted successfully!\n",
      "✅ Extracted successfully!\n",
      "✅ Extracted successfully!\n",
      "✅ Extracted successfully!\n",
      "✅ Extracted successfully!\n",
      "✅ Extracted successfully!\n",
      "✅ Extracted successfully!\n",
      "✅ Extracted successfully!\n",
      "✅ Extracted successfully!\n",
      "✅ Extracted successfully!\n",
      "['../fuel_economy_data/92mfgui.zip', '../fuel_economy_data/93mfgui.zip', '../fuel_economy_data/82data.zip', '../fuel_economy_data/83data.zip', '../fuel_economy_data/85mfgui.zip', '../fuel_economy_data/84mfgui.zip', '../fuel_economy_data/81data.zip', '../fuel_economy_data/88mfgui.zip', '../fuel_economy_data/89mfgui.zip', '../fuel_economy_data/78data.zip', '../fuel_economy_data/86mfgui.zip', '../fuel_economy_data/87mfgui.zip', '../fuel_economy_data/79data.zip', '../fuel_economy_data/91mfgui.zip', '../fuel_economy_data/90mfgui.zip']\n"
     ]
    }
   ],
   "source": [
    "import os\n",
    "import zipfile\n",
    "\n",
    "dir_name = '../fuel_economy_data/'\n",
    "extract_to = '../fuel_economy_data/extract_to/'\n",
    "extention = '.zip'\n",
    "num_error = 0\n",
    "error_file = []\n",
    "for item in os.listdir(dir_name):\n",
    "    if item.endswith(extention):\n",
    "        file_name = dir_name + item\n",
    "        try:\n",
    "            with zipfile.ZipFile(file_name, \"r\", strict_timestamps=False) as zip_ref:\n",
    "                zip_ref.extractall(extract_to)\n",
    "                print(\"✅ Extracted successfully!\")\n",
    "        except NotImplementedError as e:\n",
    "                print(f\"❌ Error: {e} - Unsupported compression method\")\n",
    "                error_file.append(file_name)\n",
    "                num_error += 1\n",
    "        zip_ref.close()\n",
    "        # os.remove(file_name)\n",
    "print(error_file)"
   ]
  },
  {
   "cell_type": "code",
   "execution_count": null,
   "metadata": {},
   "outputs": [],
   "source": []
  }
 ],
 "metadata": {
  "kernelspec": {
   "display_name": ".venv",
   "language": "python",
   "name": "python3"
  },
  "language_info": {
   "codemirror_mode": {
    "name": "ipython",
    "version": 3
   },
   "file_extension": ".py",
   "mimetype": "text/x-python",
   "name": "python",
   "nbconvert_exporter": "python",
   "pygments_lexer": "ipython3",
   "version": "3.10.12"
  }
 },
 "nbformat": 4,
 "nbformat_minor": 2
}
