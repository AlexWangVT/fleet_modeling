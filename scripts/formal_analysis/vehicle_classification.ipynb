{
 "cells": [
  {
   "cell_type": "code",
   "execution_count": 207,
   "metadata": {},
   "outputs": [],
   "source": [
    "import pandas as pd\n",
    "import numpy as np\n",
    "import matplotlib.pyplot as plt\n",
    "import seaborn as sns\n",
    "from scipy import stats\n",
    "from matplotlib.ticker import FuncFormatter\n",
    "import glob\n",
    "import os\n",
    "from datetime import datetime\n",
    "import seaborn as sns\n",
    "import re"
   ]
  },
  {
   "cell_type": "code",
   "execution_count": 22,
   "metadata": {},
   "outputs": [],
   "source": [
    "def data_load(path):\n",
    "    \"\"\"\n",
    "    Load data file.\n",
    "    \"\"\"\n",
    "    df = pd.read_excel(path)\n",
    "    # remove the last column\n",
    "    df = df.iloc[:, :-1]\n",
    "    return df\n",
    "\n",
    "def get_retired_vehicle(df):\n",
    "    \"\"\"\n",
    "    Get the retired data.\n",
    "    \"\"\"\n",
    "    df = df[df['Pri. Stat.'] == 'Retired']\n",
    "    return df\n",
    "\n",
    "\n",
    "def activity_make_model_match(df):\n",
    "    activity_make_model_df = pd.DataFrame(columns=['Make', 'Model', 'Activity Type Description'])\n",
    "    for vehicle_type in df['Activity Type Description'].unique():\n",
    "        vehicle_df = df[df['Activity Type Description'] == vehicle_type]\n",
    "        make_model = vehicle_df[['Make', 'Model']].drop_duplicates()\n",
    "        make_model['Activity Type Description'] = vehicle_type\n",
    "        activity_make_model_df = pd.concat([activity_make_model_df, make_model], ignore_index=True)\n",
    "\n",
    "    # remove null values\n",
    "    activity_make_model_df = activity_make_model_df.dropna()\n",
    "    # sort the dataframe by 'Make' and 'Model'\n",
    "    activity_make_model_df = activity_make_model_df.sort_values(by=['Make', 'Model'])\n",
    "\n",
    "    return activity_make_model_df"
   ]
  },
  {
   "cell_type": "code",
   "execution_count": 4,
   "metadata": {},
   "outputs": [
    {
     "data": {
      "text/html": [
       "<div>\n",
       "<style scoped>\n",
       "    .dataframe tbody tr th:only-of-type {\n",
       "        vertical-align: middle;\n",
       "    }\n",
       "\n",
       "    .dataframe tbody tr th {\n",
       "        vertical-align: top;\n",
       "    }\n",
       "\n",
       "    .dataframe thead th {\n",
       "        text-align: right;\n",
       "    }\n",
       "</style>\n",
       "<table border=\"1\" class=\"dataframe\">\n",
       "  <thead>\n",
       "    <tr style=\"text-align: right;\">\n",
       "      <th></th>\n",
       "      <th>Pri. Stat.</th>\n",
       "      <th>IMEI Unit</th>\n",
       "      <th>Vehicle Door No</th>\n",
       "      <th>Make</th>\n",
       "      <th>Model</th>\n",
       "      <th>Model Year</th>\n",
       "      <th>Activity Type</th>\n",
       "      <th>Activity Type Description</th>\n",
       "      <th>Actual Retired Date</th>\n",
       "      <th>Fuel Type</th>\n",
       "      <th>service_year</th>\n",
       "    </tr>\n",
       "  </thead>\n",
       "  <tbody>\n",
       "    <tr>\n",
       "      <th>0</th>\n",
       "      <td>Retired</td>\n",
       "      <td>NaN</td>\n",
       "      <td>RT9971</td>\n",
       "      <td>Chevy</td>\n",
       "      <td>Tahoe</td>\n",
       "      <td>2008</td>\n",
       "      <td>TLPB2</td>\n",
       "      <td>Carryall 4x4</td>\n",
       "      <td>03/31/2013</td>\n",
       "      <td>Gasoline</td>\n",
       "      <td>5.0</td>\n",
       "    </tr>\n",
       "    <tr>\n",
       "      <th>1</th>\n",
       "      <td>Retired</td>\n",
       "      <td>NaN</td>\n",
       "      <td>RT9972</td>\n",
       "      <td>Chevy</td>\n",
       "      <td>Tahoe</td>\n",
       "      <td>2008</td>\n",
       "      <td>TLPB2</td>\n",
       "      <td>Carryall 4x4</td>\n",
       "      <td>03/31/2013</td>\n",
       "      <td>Gasoline</td>\n",
       "      <td>5.0</td>\n",
       "    </tr>\n",
       "    <tr>\n",
       "      <th>2</th>\n",
       "      <td>Retired</td>\n",
       "      <td>NaN</td>\n",
       "      <td>RT9973</td>\n",
       "      <td>Chevy</td>\n",
       "      <td>Tahoe</td>\n",
       "      <td>2008</td>\n",
       "      <td>TLPB2</td>\n",
       "      <td>Carryall 4x4</td>\n",
       "      <td>03/31/2013</td>\n",
       "      <td>Gasoline</td>\n",
       "      <td>5.0</td>\n",
       "    </tr>\n",
       "    <tr>\n",
       "      <th>3</th>\n",
       "      <td>Retired</td>\n",
       "      <td>NaN</td>\n",
       "      <td>RT9974</td>\n",
       "      <td>Chevy</td>\n",
       "      <td>Tahoe</td>\n",
       "      <td>2008</td>\n",
       "      <td>TLPB2</td>\n",
       "      <td>Carryall 4x4</td>\n",
       "      <td>03/31/2013</td>\n",
       "      <td>Gasoline</td>\n",
       "      <td>5.0</td>\n",
       "    </tr>\n",
       "    <tr>\n",
       "      <th>4</th>\n",
       "      <td>Retired</td>\n",
       "      <td>NaN</td>\n",
       "      <td>RT9975</td>\n",
       "      <td>Chevy</td>\n",
       "      <td>Tahoe</td>\n",
       "      <td>2008</td>\n",
       "      <td>TLPB2</td>\n",
       "      <td>Carryall 4x4</td>\n",
       "      <td>03/31/2013</td>\n",
       "      <td>Gasoline</td>\n",
       "      <td>5.0</td>\n",
       "    </tr>\n",
       "  </tbody>\n",
       "</table>\n",
       "</div>"
      ],
      "text/plain": [
       "  Pri. Stat.  IMEI Unit Vehicle Door No   Make  Model  Model Year  \\\n",
       "0    Retired        NaN          RT9971  Chevy  Tahoe        2008   \n",
       "1    Retired        NaN          RT9972  Chevy  Tahoe        2008   \n",
       "2    Retired        NaN          RT9973  Chevy  Tahoe        2008   \n",
       "3    Retired        NaN          RT9974  Chevy  Tahoe        2008   \n",
       "4    Retired        NaN          RT9975  Chevy  Tahoe        2008   \n",
       "\n",
       "  Activity Type Activity Type Description Actual Retired Date Fuel Type  \\\n",
       "0         TLPB2              Carryall 4x4          03/31/2013  Gasoline   \n",
       "1         TLPB2              Carryall 4x4          03/31/2013  Gasoline   \n",
       "2         TLPB2              Carryall 4x4          03/31/2013  Gasoline   \n",
       "3         TLPB2              Carryall 4x4          03/31/2013  Gasoline   \n",
       "4         TLPB2              Carryall 4x4          03/31/2013  Gasoline   \n",
       "\n",
       "   service_year  \n",
       "0           5.0  \n",
       "1           5.0  \n",
       "2           5.0  \n",
       "3           5.0  \n",
       "4           5.0  "
      ]
     },
     "execution_count": 4,
     "metadata": {},
     "output_type": "execute_result"
    }
   ],
   "source": [
    "data_dir = '../../data/Aramco Leased Vehicles - from 2012 up-to-date.xlsx'\n",
    "fleet_df = data_load(data_dir)\n",
    "fleet_df.head()"
   ]
  },
  {
   "cell_type": "code",
   "execution_count": null,
   "metadata": {},
   "outputs": [
    {
     "name": "stdout",
     "output_type": "stream",
     "text": [
      "(25275, 11) 93\n"
     ]
    }
   ],
   "source": [
    "print(fleet_df.shape, fleet_df['Activity Type Description'].nunique())"
   ]
  },
  {
   "cell_type": "code",
   "execution_count": 6,
   "metadata": {},
   "outputs": [
    {
     "name": "stdout",
     "output_type": "stream",
     "text": [
      "(13133, 11)\n",
      "89 93\n",
      "[\"D Van 12' Hyd. Tailg\" 'Re-lamper Truck, 4x' 'Crane Truck 4X2, Die'\n",
      " 'Comm Emerg. Equip V']\n"
     ]
    }
   ],
   "source": [
    "retired_vehicle_df = get_retired_vehicle(fleet_df)\n",
    "print(retired_vehicle_df.shape)\n",
    "num_total_vehicle_type = fleet_df['Activity Type Description'].nunique()\n",
    "num_retired_vehicle_type = retired_vehicle_df['Activity Type Description'].nunique()\n",
    "print(num_retired_vehicle_type, num_total_vehicle_type)\n",
    "# Get the vehicle types not in retired vehicles\n",
    "types_not_in_retired = fleet_df[~fleet_df['Activity Type Description'].isin(retired_vehicle_df['Activity Type Description'])]['Activity Type Description'].unique()\n",
    "print(types_not_in_retired) # [\"D Van 12' Hyd. Tailg\", 'Re-lamper Truck, 4x', 'Crane Truck 4X2, Die','Comm Emerg. Equip V']"
   ]
  },
  {
   "cell_type": "code",
   "execution_count": 7,
   "metadata": {},
   "outputs": [
    {
     "data": {
      "text/html": [
       "<div>\n",
       "<style scoped>\n",
       "    .dataframe tbody tr th:only-of-type {\n",
       "        vertical-align: middle;\n",
       "    }\n",
       "\n",
       "    .dataframe tbody tr th {\n",
       "        vertical-align: top;\n",
       "    }\n",
       "\n",
       "    .dataframe thead th {\n",
       "        text-align: right;\n",
       "    }\n",
       "</style>\n",
       "<table border=\"1\" class=\"dataframe\">\n",
       "  <thead>\n",
       "    <tr style=\"text-align: right;\">\n",
       "      <th></th>\n",
       "      <th>Make</th>\n",
       "      <th>Model</th>\n",
       "      <th>Activity Type Description</th>\n",
       "    </tr>\n",
       "  </thead>\n",
       "  <tbody>\n",
       "    <tr>\n",
       "      <th>142</th>\n",
       "      <td>BMW</td>\n",
       "      <td>740Li</td>\n",
       "      <td>Sedan Executive (3)</td>\n",
       "    </tr>\n",
       "    <tr>\n",
       "      <th>143</th>\n",
       "      <td>BMW</td>\n",
       "      <td>750Li</td>\n",
       "      <td>Sedan Executive (3)</td>\n",
       "    </tr>\n",
       "    <tr>\n",
       "      <th>2</th>\n",
       "      <td>Cadillac</td>\n",
       "      <td>CT6</td>\n",
       "      <td>Sedan Executive (2)</td>\n",
       "    </tr>\n",
       "    <tr>\n",
       "      <th>162</th>\n",
       "      <td>Cadillac</td>\n",
       "      <td>Escalade</td>\n",
       "      <td>Executive Carryall</td>\n",
       "    </tr>\n",
       "    <tr>\n",
       "      <th>25</th>\n",
       "      <td>Chevy</td>\n",
       "      <td>Caprice</td>\n",
       "      <td>Sedan Full-Size</td>\n",
       "    </tr>\n",
       "  </tbody>\n",
       "</table>\n",
       "</div>"
      ],
      "text/plain": [
       "         Make     Model Activity Type Description\n",
       "142       BMW     740Li       Sedan Executive (3)\n",
       "143       BMW     750Li       Sedan Executive (3)\n",
       "2    Cadillac       CT6       Sedan Executive (2)\n",
       "162  Cadillac  Escalade        Executive Carryall\n",
       "25      Chevy   Caprice           Sedan Full-Size"
      ]
     },
     "execution_count": 7,
     "metadata": {},
     "output_type": "execute_result"
    }
   ],
   "source": [
    "activity_make_model_df = activity_make_model_match(retired_vehicle_df)\n",
    "activity_make_model_df.head()\n"
   ]
  },
  {
   "cell_type": "code",
   "execution_count": null,
   "metadata": {},
   "outputs": [],
   "source": [
    "# # save the resulting dataframe to a new excel file\n",
    "# output_path = '../../results/activity_make_model.xlsx'\n",
    "# activity_make_model_df.to_excel(output_path, index=False)"
   ]
  },
  {
   "cell_type": "code",
   "execution_count": 28,
   "metadata": {},
   "outputs": [
    {
     "data": {
      "text/html": [
       "<div>\n",
       "<style scoped>\n",
       "    .dataframe tbody tr th:only-of-type {\n",
       "        vertical-align: middle;\n",
       "    }\n",
       "\n",
       "    .dataframe tbody tr th {\n",
       "        vertical-align: top;\n",
       "    }\n",
       "\n",
       "    .dataframe thead th {\n",
       "        text-align: right;\n",
       "    }\n",
       "</style>\n",
       "<table border=\"1\" class=\"dataframe\">\n",
       "  <thead>\n",
       "    <tr style=\"text-align: right;\">\n",
       "      <th></th>\n",
       "      <th>Make</th>\n",
       "      <th>Model</th>\n",
       "      <th>Activity Type Description</th>\n",
       "    </tr>\n",
       "  </thead>\n",
       "  <tbody>\n",
       "    <tr>\n",
       "      <th>142</th>\n",
       "      <td>BMW</td>\n",
       "      <td>740Li</td>\n",
       "      <td>Sedan Executive (3)</td>\n",
       "    </tr>\n",
       "    <tr>\n",
       "      <th>143</th>\n",
       "      <td>BMW</td>\n",
       "      <td>750Li</td>\n",
       "      <td>Sedan Executive (3)</td>\n",
       "    </tr>\n",
       "    <tr>\n",
       "      <th>2</th>\n",
       "      <td>Cadillac</td>\n",
       "      <td>CT6</td>\n",
       "      <td>Sedan Executive (2)</td>\n",
       "    </tr>\n",
       "    <tr>\n",
       "      <th>162</th>\n",
       "      <td>Cadillac</td>\n",
       "      <td>Escalade</td>\n",
       "      <td>Executive Carryall</td>\n",
       "    </tr>\n",
       "    <tr>\n",
       "      <th>25</th>\n",
       "      <td>Chevy</td>\n",
       "      <td>Caprice</td>\n",
       "      <td>Sedan Full-Size</td>\n",
       "    </tr>\n",
       "  </tbody>\n",
       "</table>\n",
       "</div>"
      ],
      "text/plain": [
       "         Make     Model Activity Type Description\n",
       "142       BMW     740Li       Sedan Executive (3)\n",
       "143       BMW     750Li       Sedan Executive (3)\n",
       "2    Cadillac       CT6       Sedan Executive (2)\n",
       "162  Cadillac  Escalade        Executive Carryall\n",
       "25      Chevy   Caprice           Sedan Full-Size"
      ]
     },
     "execution_count": 28,
     "metadata": {},
     "output_type": "execute_result"
    }
   ],
   "source": [
    "# There are only 80 types here rather than 89 because we dropped the null makes and models\n",
    "activity_make_model_df['Activity Type Description'].nunique()\n",
    "activity_make_model_df.head()"
   ]
  },
  {
   "cell_type": "code",
   "execution_count": 36,
   "metadata": {},
   "outputs": [
    {
     "name": "stdout",
     "output_type": "stream",
     "text": [
      "80\n"
     ]
    },
    {
     "data": {
      "text/html": [
       "<div>\n",
       "<style scoped>\n",
       "    .dataframe tbody tr th:only-of-type {\n",
       "        vertical-align: middle;\n",
       "    }\n",
       "\n",
       "    .dataframe tbody tr th {\n",
       "        vertical-align: top;\n",
       "    }\n",
       "\n",
       "    .dataframe thead th {\n",
       "        text-align: right;\n",
       "    }\n",
       "</style>\n",
       "<table border=\"1\" class=\"dataframe\">\n",
       "  <thead>\n",
       "    <tr style=\"text-align: right;\">\n",
       "      <th></th>\n",
       "      <th>Make</th>\n",
       "      <th>Model</th>\n",
       "      <th>Activity Type Description</th>\n",
       "      <th>Vehicle Type</th>\n",
       "      <th>Renamed_type</th>\n",
       "      <th>General Type</th>\n",
       "      <th>Suggested_Classification</th>\n",
       "      <th>note</th>\n",
       "      <th>Unnamed: 8</th>\n",
       "    </tr>\n",
       "  </thead>\n",
       "  <tbody>\n",
       "    <tr>\n",
       "      <th>0</th>\n",
       "      <td>BMW</td>\n",
       "      <td>740Li</td>\n",
       "      <td>Sedan Executive (3)</td>\n",
       "      <td>Sedan Executive (3)</td>\n",
       "      <td>full-size sedan</td>\n",
       "      <td>light-duty passenger vehicle</td>\n",
       "      <td>sedan</td>\n",
       "      <td>NaN</td>\n",
       "      <td>NaN</td>\n",
       "    </tr>\n",
       "    <tr>\n",
       "      <th>1</th>\n",
       "      <td>BMW</td>\n",
       "      <td>750Li</td>\n",
       "      <td>Sedan Executive (3)</td>\n",
       "      <td>Sedan Executive (3)</td>\n",
       "      <td>full-size sedan</td>\n",
       "      <td>light-duty passenger vehicle</td>\n",
       "      <td>sedan</td>\n",
       "      <td>NaN</td>\n",
       "      <td>NaN</td>\n",
       "    </tr>\n",
       "    <tr>\n",
       "      <th>2</th>\n",
       "      <td>Cadillac</td>\n",
       "      <td>CT6</td>\n",
       "      <td>Sedan Executive (2)</td>\n",
       "      <td>Sedan Executive (2)</td>\n",
       "      <td>full-size sedan</td>\n",
       "      <td>light-duty passenger vehicle</td>\n",
       "      <td>sedan</td>\n",
       "      <td>NaN</td>\n",
       "      <td>NaN</td>\n",
       "    </tr>\n",
       "    <tr>\n",
       "      <th>3</th>\n",
       "      <td>Cadillac</td>\n",
       "      <td>Escalade</td>\n",
       "      <td>Executive Carryall</td>\n",
       "      <td>Executive Carryall</td>\n",
       "      <td>full-size SUV</td>\n",
       "      <td>light-duty passenger vehicle</td>\n",
       "      <td>suv</td>\n",
       "      <td>NaN</td>\n",
       "      <td>NaN</td>\n",
       "    </tr>\n",
       "    <tr>\n",
       "      <th>4</th>\n",
       "      <td>Chevy</td>\n",
       "      <td>Caprice</td>\n",
       "      <td>Sedan Full-Size</td>\n",
       "      <td>Sedan Full-Size</td>\n",
       "      <td>full-size sedan</td>\n",
       "      <td>light-duty passenger vehicle</td>\n",
       "      <td>sedan</td>\n",
       "      <td>NaN</td>\n",
       "      <td>NaN</td>\n",
       "    </tr>\n",
       "  </tbody>\n",
       "</table>\n",
       "</div>"
      ],
      "text/plain": [
       "       Make     Model Activity Type Description         Vehicle Type  \\\n",
       "0       BMW     740Li       Sedan Executive (3)  Sedan Executive (3)   \n",
       "1       BMW     750Li       Sedan Executive (3)  Sedan Executive (3)   \n",
       "2  Cadillac       CT6       Sedan Executive (2)  Sedan Executive (2)   \n",
       "3  Cadillac  Escalade        Executive Carryall   Executive Carryall   \n",
       "4     Chevy   Caprice           Sedan Full-Size      Sedan Full-Size   \n",
       "\n",
       "      Renamed_type                  General Type Suggested_Classification  \\\n",
       "0  full-size sedan  light-duty passenger vehicle                    sedan   \n",
       "1  full-size sedan  light-duty passenger vehicle                    sedan   \n",
       "2  full-size sedan  light-duty passenger vehicle                    sedan   \n",
       "3    full-size SUV  light-duty passenger vehicle                      suv   \n",
       "4  full-size sedan  light-duty passenger vehicle                    sedan   \n",
       "\n",
       "  note Unnamed: 8  \n",
       "0  NaN        NaN  \n",
       "1  NaN        NaN  \n",
       "2  NaN        NaN  \n",
       "3  NaN        NaN  \n",
       "4  NaN        NaN  "
      ]
     },
     "execution_count": 36,
     "metadata": {},
     "output_type": "execute_result"
    }
   ],
   "source": [
    "# Classify vehicles based on make, model, and activity type, join the two dataframes: vehicle_type_df and retired_vehicle_df\n",
    "# use inner_join here\n",
    "def classify_vehicle_type(vehicle_type_df, retired_vehicle_df):\n",
    "    df = vehicle_type_df.iloc[:, :-2]\n",
    "    df = df.drop(columns=['Vehicle Type', 'Renamed_type'], axis=1)\n",
    "    # join the two dataframes\n",
    "    df1 = pd.merge(retired_vehicle_df, df, on=['Make', 'Model', 'Activity Type Description'], how='inner')\n",
    "\n",
    "    return df1\n",
    "\n",
    "\n",
    "# The number of unique vehicle types here is 84 which is more than the number of unique vehicle types in the activity_make_model_df because we add those 4 which are not included in the retired vehicles\n",
    "data_path = '../../results/activity_make_model.xlsx'\n",
    "vehicle_type_df = pd.read_excel(data_path)\n",
    "merge_df = classify_vehicle_type(vehicle_type_df, retired_vehicle_df)\n",
    "print(merge_df['Activity Type Description'].nunique())\n",
    "vehicle_type_df.head()"
   ]
  },
  {
   "cell_type": "code",
   "execution_count": 220,
   "metadata": {},
   "outputs": [
    {
     "name": "stdout",
     "output_type": "stream",
     "text": [
      "13 145 6308 17 7087 6025 82 19677 19677\n"
     ]
    }
   ],
   "source": [
    "# merge activity_make_model matched data with the raw fleet data to check how many vehicles are in each type\n",
    "raw_fleet_merge_activity_make_model = classify_vehicle_type(vehicle_type_df, fleet_df)\n",
    "# check the number of unique vehicle types\n",
    "hdt = raw_fleet_merge_activity_make_model[raw_fleet_merge_activity_make_model['Suggested_Classification']=='heavy-duty truck'].shape[0]\n",
    "mdt = raw_fleet_merge_activity_make_model[raw_fleet_merge_activity_make_model['Suggested_Classification']=='medium-duty truck'].shape[0]\n",
    "ldt = raw_fleet_merge_activity_make_model[raw_fleet_merge_activity_make_model['Suggested_Classification']=='light-duty truck'].shape[0]\n",
    "bus = raw_fleet_merge_activity_make_model[raw_fleet_merge_activity_make_model['Suggested_Classification']=='bus'].shape[0]\n",
    "sedan = raw_fleet_merge_activity_make_model[raw_fleet_merge_activity_make_model['Suggested_Classification']=='sedan'].shape[0]\n",
    "suv = raw_fleet_merge_activity_make_model[raw_fleet_merge_activity_make_model['Suggested_Classification']=='suv'].shape[0]\n",
    "van = raw_fleet_merge_activity_make_model[raw_fleet_merge_activity_make_model['Suggested_Classification']=='van'].shape[0]\n",
    "total = hdt + mdt + ldt + bus + sedan + suv + van\n",
    "print(hdt, mdt, ldt, bus, sedan, suv, van, total, raw_fleet_merge_activity_make_model.shape[0])"
   ]
  },
  {
   "cell_type": "code",
   "execution_count": 37,
   "metadata": {},
   "outputs": [
    {
     "name": "stdout",
     "output_type": "stream",
     "text": [
      "(13133, 11) (13079, 13)\n"
     ]
    }
   ],
   "source": [
    "print(retired_vehicle_df.shape, merge_df.shape)\n",
    "merge_df.head()\n",
    "merge_df.to_csv('../../results/merged_vehicle_type.csv', index=False)"
   ]
  },
  {
   "cell_type": "code",
   "execution_count": 38,
   "metadata": {},
   "outputs": [],
   "source": [
    "# Calculate survival rate by vehicle type\n",
    "def calculate_survival_pattern(df):\n",
    "    vehicle_types = df['Suggested_Classification'].unique()\n",
    "    survival_rate = {}\n",
    "\n",
    "    for veh_type in vehicle_types:\n",
    "        num_vehicles = len(df[df['Suggested_Classification'] == veh_type])\n",
    "        survival_rate[veh_type] = []\n",
    "    \n",
    "        num_retired = 0\n",
    "        vehicle_age = range(int(df.loc[df['Suggested_Classification'] == veh_type, 'service_year'].max()) + 1)\n",
    "        for age in vehicle_age:\n",
    "            num_retired += len(df[(df['Suggested_Classification'] == veh_type) & (df['service_year'] == age)])\n",
    "            try:\n",
    "                survival_rate[veh_type].append((num_vehicles - num_retired)/num_vehicles)\n",
    "            except ZeroDivisionError:\n",
    "                survival_rate[veh_type].append(0) \n",
    "                print(f\"❌ Failed to fetch website: {veh_type} at age {age}\")\n",
    "\n",
    "    survival_rate_df = pd.DataFrame.from_dict(survival_rate, orient='index').fillna(0)\n",
    "    survival_rate_df.head()\n",
    "\n",
    "    return survival_rate_df\n",
    "\n",
    "\n",
    "survival_df = calculate_survival_pattern(merge_df)"
   ]
  },
  {
   "cell_type": "code",
   "execution_count": 39,
   "metadata": {},
   "outputs": [
    {
     "data": {
      "text/html": [
       "<div>\n",
       "<style scoped>\n",
       "    .dataframe tbody tr th:only-of-type {\n",
       "        vertical-align: middle;\n",
       "    }\n",
       "\n",
       "    .dataframe tbody tr th {\n",
       "        vertical-align: top;\n",
       "    }\n",
       "\n",
       "    .dataframe thead th {\n",
       "        text-align: right;\n",
       "    }\n",
       "</style>\n",
       "<table border=\"1\" class=\"dataframe\">\n",
       "  <thead>\n",
       "    <tr style=\"text-align: right;\">\n",
       "      <th></th>\n",
       "      <th>0</th>\n",
       "      <th>1</th>\n",
       "      <th>2</th>\n",
       "      <th>3</th>\n",
       "      <th>4</th>\n",
       "      <th>5</th>\n",
       "      <th>6</th>\n",
       "      <th>7</th>\n",
       "      <th>8</th>\n",
       "      <th>9</th>\n",
       "      <th>10</th>\n",
       "      <th>11</th>\n",
       "      <th>12</th>\n",
       "      <th>13</th>\n",
       "      <th>14</th>\n",
       "      <th>15</th>\n",
       "      <th>16</th>\n",
       "    </tr>\n",
       "  </thead>\n",
       "  <tbody>\n",
       "    <tr>\n",
       "      <th>suv</th>\n",
       "      <td>0.999715</td>\n",
       "      <td>0.998006</td>\n",
       "      <td>0.988034</td>\n",
       "      <td>0.962108</td>\n",
       "      <td>0.888034</td>\n",
       "      <td>0.736467</td>\n",
       "      <td>0.612821</td>\n",
       "      <td>0.522792</td>\n",
       "      <td>0.338746</td>\n",
       "      <td>0.081481</td>\n",
       "      <td>0.049573</td>\n",
       "      <td>0.003989</td>\n",
       "      <td>0.00057</td>\n",
       "      <td>0.000285</td>\n",
       "      <td>0.000285</td>\n",
       "      <td>0.000285</td>\n",
       "      <td>0.0</td>\n",
       "    </tr>\n",
       "    <tr>\n",
       "      <th>light-duty truck</th>\n",
       "      <td>1.000000</td>\n",
       "      <td>0.997257</td>\n",
       "      <td>0.991183</td>\n",
       "      <td>0.974726</td>\n",
       "      <td>0.923589</td>\n",
       "      <td>0.794083</td>\n",
       "      <td>0.570337</td>\n",
       "      <td>0.517241</td>\n",
       "      <td>0.374804</td>\n",
       "      <td>0.323472</td>\n",
       "      <td>0.143613</td>\n",
       "      <td>0.009013</td>\n",
       "      <td>0.00000</td>\n",
       "      <td>0.000000</td>\n",
       "      <td>0.000000</td>\n",
       "      <td>0.000000</td>\n",
       "      <td>0.0</td>\n",
       "    </tr>\n",
       "    <tr>\n",
       "      <th>heavy-duty truck</th>\n",
       "      <td>1.000000</td>\n",
       "      <td>1.000000</td>\n",
       "      <td>1.000000</td>\n",
       "      <td>1.000000</td>\n",
       "      <td>1.000000</td>\n",
       "      <td>1.000000</td>\n",
       "      <td>0.666667</td>\n",
       "      <td>0.500000</td>\n",
       "      <td>0.166667</td>\n",
       "      <td>0.166667</td>\n",
       "      <td>0.000000</td>\n",
       "      <td>0.000000</td>\n",
       "      <td>0.00000</td>\n",
       "      <td>0.000000</td>\n",
       "      <td>0.000000</td>\n",
       "      <td>0.000000</td>\n",
       "      <td>0.0</td>\n",
       "    </tr>\n",
       "    <tr>\n",
       "      <th>sedan</th>\n",
       "      <td>0.997900</td>\n",
       "      <td>0.994867</td>\n",
       "      <td>0.983201</td>\n",
       "      <td>0.952170</td>\n",
       "      <td>0.788847</td>\n",
       "      <td>0.639524</td>\n",
       "      <td>0.476668</td>\n",
       "      <td>0.244750</td>\n",
       "      <td>0.112692</td>\n",
       "      <td>0.000933</td>\n",
       "      <td>0.000467</td>\n",
       "      <td>0.000233</td>\n",
       "      <td>0.00000</td>\n",
       "      <td>0.000000</td>\n",
       "      <td>0.000000</td>\n",
       "      <td>0.000000</td>\n",
       "      <td>0.0</td>\n",
       "    </tr>\n",
       "    <tr>\n",
       "      <th>medium-duty truck</th>\n",
       "      <td>1.000000</td>\n",
       "      <td>1.000000</td>\n",
       "      <td>1.000000</td>\n",
       "      <td>1.000000</td>\n",
       "      <td>1.000000</td>\n",
       "      <td>0.946237</td>\n",
       "      <td>0.838710</td>\n",
       "      <td>0.763441</td>\n",
       "      <td>0.698925</td>\n",
       "      <td>0.548387</td>\n",
       "      <td>0.129032</td>\n",
       "      <td>0.021505</td>\n",
       "      <td>0.00000</td>\n",
       "      <td>0.000000</td>\n",
       "      <td>0.000000</td>\n",
       "      <td>0.000000</td>\n",
       "      <td>0.0</td>\n",
       "    </tr>\n",
       "  </tbody>\n",
       "</table>\n",
       "</div>"
      ],
      "text/plain": [
       "                         0         1         2         3         4         5   \\\n",
       "suv                0.999715  0.998006  0.988034  0.962108  0.888034  0.736467   \n",
       "light-duty truck   1.000000  0.997257  0.991183  0.974726  0.923589  0.794083   \n",
       "heavy-duty truck   1.000000  1.000000  1.000000  1.000000  1.000000  1.000000   \n",
       "sedan              0.997900  0.994867  0.983201  0.952170  0.788847  0.639524   \n",
       "medium-duty truck  1.000000  1.000000  1.000000  1.000000  1.000000  0.946237   \n",
       "\n",
       "                         6         7         8         9         10        11  \\\n",
       "suv                0.612821  0.522792  0.338746  0.081481  0.049573  0.003989   \n",
       "light-duty truck   0.570337  0.517241  0.374804  0.323472  0.143613  0.009013   \n",
       "heavy-duty truck   0.666667  0.500000  0.166667  0.166667  0.000000  0.000000   \n",
       "sedan              0.476668  0.244750  0.112692  0.000933  0.000467  0.000233   \n",
       "medium-duty truck  0.838710  0.763441  0.698925  0.548387  0.129032  0.021505   \n",
       "\n",
       "                        12        13        14        15   16  \n",
       "suv                0.00057  0.000285  0.000285  0.000285  0.0  \n",
       "light-duty truck   0.00000  0.000000  0.000000  0.000000  0.0  \n",
       "heavy-duty truck   0.00000  0.000000  0.000000  0.000000  0.0  \n",
       "sedan              0.00000  0.000000  0.000000  0.000000  0.0  \n",
       "medium-duty truck  0.00000  0.000000  0.000000  0.000000  0.0  "
      ]
     },
     "execution_count": 39,
     "metadata": {},
     "output_type": "execute_result"
    }
   ],
   "source": [
    "survival_df.head()\n",
    "# survival_df.to_csv('../../results/survival_rate1.csv', index=False)"
   ]
  },
  {
   "cell_type": "code",
   "execution_count": 40,
   "metadata": {},
   "outputs": [
    {
     "data": {
      "image/png": "[encoded data removed]",
      "text/plain": [
       "<Figure size 640x480 with 1 Axes>"
      ]
     },
     "metadata": {},
     "output_type": "display_data"
    }
   ],
   "source": [
    "# Visualize the survival rate\n",
    "for index, row in survival_df.iterrows():\n",
    "    plt.plot(row, label=index)\n",
    "\n",
    "plt.xlabel('Age')\n",
    "plt.ylabel('Survival Rate')\n",
    "plt.title('Survival rate at each age')\n",
    "plt.legend()\n",
    "plt.show()"
   ]
  },
  {
   "cell_type": "code",
   "execution_count": 41,
   "metadata": {},
   "outputs": [
    {
     "name": "stdout",
     "output_type": "stream",
     "text": [
      "6 93 5104 9 4286 3510 71\n"
     ]
    }
   ],
   "source": [
    "hdt = merge_df[merge_df['Suggested_Classification']=='heavy-duty truck'].shape[0]\n",
    "mdt = merge_df[merge_df['Suggested_Classification']=='medium-duty truck'].shape[0]\n",
    "ldt = merge_df[merge_df['Suggested_Classification']=='light-duty truck'].shape[0]\n",
    "bus = merge_df[merge_df['Suggested_Classification']=='bus'].shape[0]\n",
    "sedan = merge_df[merge_df['Suggested_Classification']=='sedan'].shape[0]\n",
    "suv = merge_df[merge_df['Suggested_Classification']=='suv'].shape[0]\n",
    "van = merge_df[merge_df['Suggested_Classification']=='van'].shape[0]\n",
    "print(hdt, mdt, ldt, bus, sedan, suv, van)"
   ]
  },
  {
   "cell_type": "code",
   "execution_count": 212,
   "metadata": {},
   "outputs": [],
   "source": [
    "# calculate annual VKT distribution for each vehicle class\n",
    "def calculate_annual_vkt_distribution(df, year):\n",
    "    df = df[df['trip_start_year']==year]\n",
    "    print(df['Suggested_Classification'].unique())\n",
    "    # calculate the annual VKT for each vehicle class\n",
    "    vkt_distribution = df.groupby(['Suggested_Classification', 'Vehicle Door No'])['distance'].sum().reset_index()\n",
    "\n",
    "    return vkt_distribution\n",
    "    \n",
    "    \n",
    "def vkt_dist_visualization(df, year):\n",
    "\n",
    "    def sci_formatter(x, pos):\n",
    "        return f\"$10^{int(x)}$\" if x >= 1 else \"\"\n",
    "    \n",
    "    vehicle_class = df['Suggested_Classification'].unique()\n",
    "    class_list = []\n",
    "    fig, ax = plt.subplots()\n",
    "    for vehicle_cls in vehicle_class:\n",
    "        vehicle_type = df[df['Suggested_Classification']==vehicle_cls]['distance']\n",
    "        sns.histplot(np.log10(vehicle_type.values), stat='percent', kde=True, ax=ax)\n",
    "        class_list.append(vehicle_cls)\n",
    "    ax.xaxis.set_major_formatter(FuncFormatter(sci_formatter))\n",
    "    plt.xlabel('Annual VKT (km)')\n",
    "    plt.ylabel('Percent')\n",
    "    plt.title(f'Annual VKT distribution {year}')\n",
    "    plt.legend(class_list)\n",
    "\n"
   ]
  },
  {
   "cell_type": "code",
   "execution_count": 109,
   "metadata": {},
   "outputs": [
    {
     "name": "stderr",
     "output_type": "stream",
     "text": [
      "/var/folders/rh/5tkty3715h119sm4y35zw4dr0000gn/T/ipykernel_85766/1289176081.py:1: DtypeWarning: Columns (9,18,20) have mixed types. Specify dtype option on import or set low_memory=False.\n",
      "  cleaned_melt_df = pd.read_csv('../../results/three_data_melt.csv')\n"
     ]
    }
   ],
   "source": [
    "cleaned_melt_df = pd.read_csv('../../results/three_data_melt.csv')\n",
    "merged_vkt_df = pd.merge(cleaned_melt_df, vehicle_type_df, on=['Make', 'Model', 'Activity Type Description'], how='inner')"
   ]
  },
  {
   "cell_type": "code",
   "execution_count": null,
   "metadata": {},
   "outputs": [
    {
     "name": "stdout",
     "output_type": "stream",
     "text": [
      "['light-duty truck' 'sedan' 'suv' 'medium-duty truck']\n"
     ]
    },
    {
     "name": "stderr",
     "output_type": "stream",
     "text": [
      "/var/folders/rh/5tkty3715h119sm4y35zw4dr0000gn/T/ipykernel_85766/2918071062.py:21: RuntimeWarning: divide by zero encountered in log10\n",
      "  sns.histplot(np.log10(vehicle_type.values), stat='percent', kde=True, ax=ax)\n",
      "/var/folders/rh/5tkty3715h119sm4y35zw4dr0000gn/T/ipykernel_85766/2918071062.py:21: RuntimeWarning: divide by zero encountered in log10\n",
      "  sns.histplot(np.log10(vehicle_type.values), stat='percent', kde=True, ax=ax)\n",
      "/var/folders/rh/5tkty3715h119sm4y35zw4dr0000gn/T/ipykernel_85766/2918071062.py:21: RuntimeWarning: divide by zero encountered in log10\n",
      "  sns.histplot(np.log10(vehicle_type.values), stat='percent', kde=True, ax=ax)\n"
     ]
    },
    {
     "data": {
      "image/png": "[encoded data removed]",
      "text/plain": [
       "<Figure size 640x480 with 1 Axes>"
      ]
     },
     "metadata": {},
     "output_type": "display_data"
    }
   ],
   "source": [
    "year = 2022\n",
    "vkt_distribution = calculate_annual_vkt_distribution(merged_vkt_df, year)\n",
    "vkt_dist_visualization(vkt_distribution, year)\n",
    "\n",
    "# Still need to convert the actual recorded vkt of each vehicle (for those cut in or step out during the year) to annual equaivalent vkt"
   ]
  },
  {
   "cell_type": "code",
   "execution_count": null,
   "metadata": {},
   "outputs": [],
   "source": []
  },
  {
   "cell_type": "code",
   "execution_count": null,
   "metadata": {},
   "outputs": [
    {
     "name": "stderr",
     "output_type": "stream",
     "text": [
      "/var/folders/rh/5tkty3715h119sm4y35zw4dr0000gn/T/ipykernel_85766/861069409.py:8: RuntimeWarning: divide by zero encountered in log10\n",
      "  sns.histplot(np.log10(a.values), stat='percent',log_scale=True, kde=True, ax=ax)\n"
     ]
    },
    {
     "data": {
      "text/plain": [
       "<Axes: ylabel='Percent'>"
      ]
     },
     "execution_count": 152,
     "metadata": {},
     "output_type": "execute_result"
    },
    {
     "data": {
      "image/png": "[encoded data removed]",
      "text/plain": [
       "<Figure size 640x480 with 1 Axes>"
      ]
     },
     "metadata": {},
     "output_type": "display_data"
    }
   ],
   "source": [
    "# when vehicle_start_year equals 2014, trip_start_year is in [2014, 2015, 2016, 2017, 2018, 2019, 2020, 2021, 2022,2023,2024,2025]\n",
    "# cleaned_melt_df[cleaned_melt_df['trip_start_year'] < cleaned_melt_df['vehicle_start_year']].shape\n",
    "# print(cleaned_melt_df['trip_start_year'].unique(), cleaned_melt_df['vehicle_start_year'].unique())"
   ]
  },
  {
   "cell_type": "code",
   "execution_count": 121,
   "metadata": {},
   "outputs": [
    {
     "data": {
      "text/plain": [
       "Index(['Unnamed: 0', 'Pri. Stat.', 'IMEI Unit', 'Vehicle Door No', 'Make',\n",
       "       'Model', 'Model Year', 'Activity Type', 'Activity Type Description',\n",
       "       'Actual Retired Date', 'Fuel Type', 'service_year', 'status',\n",
       "       'average_speed_with_idle', 'average_speed_without_idle',\n",
       "       'vehicle_start_year', 'vehicle_stop_year', 'distance', 'idle_time',\n",
       "       'max_speed', 'moving_time', 'trip_start_year', 'trip_stop_year',\n",
       "       'Vehicle Type', 'Renamed_type', 'General Type',\n",
       "       'Suggested_Classification', 'note', 'Unnamed: 8'],\n",
       "      dtype='object')"
      ]
     },
     "execution_count": 121,
     "metadata": {},
     "output_type": "execute_result"
    }
   ],
   "source": [
    "merged_vkt_df.columns"
   ]
  }
 ],
 "metadata": {
  "kernelspec": {
   "display_name": ".venv",
   "language": "python",
   "name": "python3"
  },
  "language_info": {
   "codemirror_mode": {
    "name": "ipython",
    "version": 3
   },
   "file_extension": ".py",
   "mimetype": "text/x-python",
   "name": "python",
   "nbconvert_exporter": "python",
   "pygments_lexer": "ipython3",
   "version": "3.10.12"
  }
 },
 "nbformat": 4,
 "nbformat_minor": 2
}
