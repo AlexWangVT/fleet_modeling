{
 "cells": [
  {
   "cell_type": "code",
   "execution_count": 1,
   "metadata": {},
   "outputs": [],
   "source": [
    "import pandas as pd\n",
    "import numpy as np\n",
    "import matplotlib.pyplot as plt\n",
    "import seaborn as sns\n",
    "from scipy import stats"
   ]
  },
  {
   "cell_type": "code",
   "execution_count": 2,
   "metadata": {},
   "outputs": [],
   "source": [
    "def merge_fleet_avl(fleet_data_path, avl_data_path):\n",
    "    avl_data = pd.read_csv(avl_data_path)\n",
    "    fleet_data = pd.read_excel(fleet_data_path)\n",
    "    avl_data.columns = ['IMEI Unit', 'start_time', 'stop_time', 'distance_travelled', 'moving_time', 'idle_time', 'speed']\n",
    "    merge_df = pd.merge(avl_data, fleet_data, on='IMEI Unit', how='inner')\n",
    "    merge_df = merge_df.drop(merge_df.iloc[:, -2:].columns, axis=1)\n",
    "    \n",
    "    return merge_df\n",
    "\n",
    "\n",
    "def calculate_service_year(df):\n",
    "    vehicle_ids = df['IMEI Unit'].unique()\n",
    "    for id in vehicle_ids:\n",
    "        start_year = df.loc[df['IMEI Unit'] == id, 'start_time'].min()\n",
    "        start_year = int(str(start_year)[:4])\n",
    "        stop_year = df.loc[df['IMEI Unit'] == id, 'stop_time'].max()\n",
    "        stop_year = int(str(stop_year)[:4])\n",
    "        df.loc[df['IMEI Unit'] == id, 'start_year'] = start_year\n",
    "        df.loc[df['IMEI Unit'] == id, 'stop_year'] = stop_year\n",
    "\n",
    "        if stop_year < 2025:            \n",
    "            service_year = stop_year - start_year                      \n",
    "            df.loc[df['IMEI Unit'] == id, 'service_year'] = service_year\n",
    "        else:  # if stop year is 2025, the vehicle is still in service, we assume service-year of this vehicle is 0 for now\n",
    "            df.loc[df['IMEI Unit'] == id, 'service_year'] = 0   \n",
    "\n",
    "    return df"
   ]
  },
  {
   "cell_type": "code",
   "execution_count": 11,
   "metadata": {},
   "outputs": [
    {
     "name": "stderr",
     "output_type": "stream",
     "text": [
      "/var/folders/rh/5tkty3715h119sm4y35zw4dr0000gn/T/ipykernel_57984/3032701236.py:3: DtypeWarning: Columns (0) have mixed types. Specify dtype option on import or set low_memory=False.\n",
      "  avl_data = pd.read_csv(avl_data_path)\n"
     ]
    },
    {
     "name": "stdout",
     "output_type": "stream",
     "text": [
      "24875 11254\n"
     ]
    },
    {
     "data": {
      "text/plain": [
       "0"
      ]
     },
     "execution_count": 11,
     "metadata": {},
     "output_type": "execute_result"
    }
   ],
   "source": [
    "avl_data_path = '../data/RND.csv'\n",
    "fleet_data_path = '../Aramco Leased Vehicles - from 2012 up-to-date.xlsx'\n",
    "avl_data = pd.read_csv(avl_data_path)\n",
    "fleet_data = pd.read_excel(fleet_data_path)\n",
    "fleet_data['IMEI Unit'] = fleet_data['IMEI Unit'].astype(str)\n",
    "avl_data.columns = ['IMEI Unit', 'start_time', 'stop_time', 'distance_travelled', 'moving_time', 'idle_time', 'speed']\n",
    "print(len(avl_data['IMEI Unit'].unique()), len(fleet_data['IMEI Unit'].unique()))\n",
    "len(set(avl_data['IMEI Unit'].unique()) & set(fleet_data['IMEI Unit'].unique()))"
   ]
  },
  {
   "cell_type": "code",
   "execution_count": 13,
   "metadata": {},
   "outputs": [
    {
     "name": "stderr",
     "output_type": "stream",
     "text": [
      "/var/folders/rh/5tkty3715h119sm4y35zw4dr0000gn/T/ipykernel_57984/1208836461.py:2: DtypeWarning: Columns (0) have mixed types. Specify dtype option on import or set low_memory=False.\n",
      "  avl_data = pd.read_csv(avl_data_path)\n"
     ]
    },
    {
     "data": {
      "text/html": [
       "<div>\n",
       "<style scoped>\n",
       "    .dataframe tbody tr th:only-of-type {\n",
       "        vertical-align: middle;\n",
       "    }\n",
       "\n",
       "    .dataframe tbody tr th {\n",
       "        vertical-align: top;\n",
       "    }\n",
       "\n",
       "    .dataframe thead th {\n",
       "        text-align: right;\n",
       "    }\n",
       "</style>\n",
       "<table border=\"1\" class=\"dataframe\">\n",
       "  <thead>\n",
       "    <tr style=\"text-align: right;\">\n",
       "      <th></th>\n",
       "      <th>IMEI Unit</th>\n",
       "      <th>start_time</th>\n",
       "      <th>stop_time</th>\n",
       "      <th>distance_travelled</th>\n",
       "      <th>moving_time</th>\n",
       "      <th>idle_time</th>\n",
       "      <th>speed</th>\n",
       "      <th>Pri. Stat.</th>\n",
       "      <th>Vehicle Door No</th>\n",
       "      <th>Make</th>\n",
       "      <th>Model</th>\n",
       "      <th>Model Year</th>\n",
       "      <th>Activity Type</th>\n",
       "      <th>Activity Type Description</th>\n",
       "      <th>Actual Retired Date</th>\n",
       "      <th>Fuel Type</th>\n",
       "    </tr>\n",
       "  </thead>\n",
       "  <tbody>\n",
       "    <tr>\n",
       "      <th>0</th>\n",
       "      <td>354725060308701</td>\n",
       "      <td>20141218160701</td>\n",
       "      <td>20141218165301</td>\n",
       "      <td>31.73</td>\n",
       "      <td>1465</td>\n",
       "      <td>935</td>\n",
       "      <td>96</td>\n",
       "      <td>TRP</td>\n",
       "      <td>RT3404</td>\n",
       "      <td>Chevy</td>\n",
       "      <td>Silverado</td>\n",
       "      <td>2014</td>\n",
       "      <td>TL025</td>\n",
       "      <td>Pickup 4x2 1/2 Ton</td>\n",
       "      <td>NaN</td>\n",
       "      <td>Gasoline</td>\n",
       "    </tr>\n",
       "    <tr>\n",
       "      <th>1</th>\n",
       "      <td>354725060308701</td>\n",
       "      <td>20141221052118</td>\n",
       "      <td>20141221164320</td>\n",
       "      <td>69.54</td>\n",
       "      <td>3470</td>\n",
       "      <td>1346</td>\n",
       "      <td>111</td>\n",
       "      <td>TRP</td>\n",
       "      <td>RT3404</td>\n",
       "      <td>Chevy</td>\n",
       "      <td>Silverado</td>\n",
       "      <td>2014</td>\n",
       "      <td>TL025</td>\n",
       "      <td>Pickup 4x2 1/2 Ton</td>\n",
       "      <td>NaN</td>\n",
       "      <td>Gasoline</td>\n",
       "    </tr>\n",
       "    <tr>\n",
       "      <th>2</th>\n",
       "      <td>354725060308701</td>\n",
       "      <td>20141222051716</td>\n",
       "      <td>20141222164606</td>\n",
       "      <td>61.85</td>\n",
       "      <td>4068</td>\n",
       "      <td>1161</td>\n",
       "      <td>111</td>\n",
       "      <td>TRP</td>\n",
       "      <td>RT3404</td>\n",
       "      <td>Chevy</td>\n",
       "      <td>Silverado</td>\n",
       "      <td>2014</td>\n",
       "      <td>TL025</td>\n",
       "      <td>Pickup 4x2 1/2 Ton</td>\n",
       "      <td>NaN</td>\n",
       "      <td>Gasoline</td>\n",
       "    </tr>\n",
       "    <tr>\n",
       "      <th>3</th>\n",
       "      <td>354725060308701</td>\n",
       "      <td>20141223051720</td>\n",
       "      <td>20141223163704</td>\n",
       "      <td>62.67</td>\n",
       "      <td>3528</td>\n",
       "      <td>398</td>\n",
       "      <td>111</td>\n",
       "      <td>TRP</td>\n",
       "      <td>RT3404</td>\n",
       "      <td>Chevy</td>\n",
       "      <td>Silverado</td>\n",
       "      <td>2014</td>\n",
       "      <td>TL025</td>\n",
       "      <td>Pickup 4x2 1/2 Ton</td>\n",
       "      <td>NaN</td>\n",
       "      <td>Gasoline</td>\n",
       "    </tr>\n",
       "    <tr>\n",
       "      <th>4</th>\n",
       "      <td>354725060308701</td>\n",
       "      <td>20141224051843</td>\n",
       "      <td>20141224163713</td>\n",
       "      <td>82.17</td>\n",
       "      <td>4760</td>\n",
       "      <td>1222</td>\n",
       "      <td>111</td>\n",
       "      <td>TRP</td>\n",
       "      <td>RT3404</td>\n",
       "      <td>Chevy</td>\n",
       "      <td>Silverado</td>\n",
       "      <td>2014</td>\n",
       "      <td>TL025</td>\n",
       "      <td>Pickup 4x2 1/2 Ton</td>\n",
       "      <td>NaN</td>\n",
       "      <td>Gasoline</td>\n",
       "    </tr>\n",
       "  </tbody>\n",
       "</table>\n",
       "</div>"
      ],
      "text/plain": [
       "         IMEI Unit      start_time       stop_time  distance_travelled  \\\n",
       "0  354725060308701  20141218160701  20141218165301               31.73   \n",
       "1  354725060308701  20141221052118  20141221164320               69.54   \n",
       "2  354725060308701  20141222051716  20141222164606               61.85   \n",
       "3  354725060308701  20141223051720  20141223163704               62.67   \n",
       "4  354725060308701  20141224051843  20141224163713               82.17   \n",
       "\n",
       "   moving_time  idle_time  speed Pri. Stat. Vehicle Door No   Make      Model  \\\n",
       "0         1465        935     96        TRP          RT3404  Chevy  Silverado   \n",
       "1         3470       1346    111        TRP          RT3404  Chevy  Silverado   \n",
       "2         4068       1161    111        TRP          RT3404  Chevy  Silverado   \n",
       "3         3528        398    111        TRP          RT3404  Chevy  Silverado   \n",
       "4         4760       1222    111        TRP          RT3404  Chevy  Silverado   \n",
       "\n",
       "   Model Year Activity Type Activity Type Description Actual Retired Date  \\\n",
       "0        2014         TL025        Pickup 4x2 1/2 Ton                 NaN   \n",
       "1        2014         TL025        Pickup 4x2 1/2 Ton                 NaN   \n",
       "2        2014         TL025        Pickup 4x2 1/2 Ton                 NaN   \n",
       "3        2014         TL025        Pickup 4x2 1/2 Ton                 NaN   \n",
       "4        2014         TL025        Pickup 4x2 1/2 Ton                 NaN   \n",
       "\n",
       "  Fuel Type  \n",
       "0  Gasoline  \n",
       "1  Gasoline  \n",
       "2  Gasoline  \n",
       "3  Gasoline  \n",
       "4  Gasoline  "
      ]
     },
     "execution_count": 13,
     "metadata": {},
     "output_type": "execute_result"
    }
   ],
   "source": [
    "merge_df = merge_fleet_avl(fleet_data_path, avl_data_path)\n",
    "merge_df.head()"
   ]
  },
  {
   "cell_type": "code",
   "execution_count": 14,
   "metadata": {},
   "outputs": [
    {
     "data": {
      "text/plain": [
       "(527522, 16)"
      ]
     },
     "execution_count": 14,
     "metadata": {},
     "output_type": "execute_result"
    }
   ],
   "source": [
    "merge_df.shape"
   ]
  },
  {
   "cell_type": "code",
   "execution_count": 10,
   "metadata": {},
   "outputs": [
    {
     "data": {
      "text/html": [
       "<div>\n",
       "<style scoped>\n",
       "    .dataframe tbody tr th:only-of-type {\n",
       "        vertical-align: middle;\n",
       "    }\n",
       "\n",
       "    .dataframe tbody tr th {\n",
       "        vertical-align: top;\n",
       "    }\n",
       "\n",
       "    .dataframe thead th {\n",
       "        text-align: right;\n",
       "    }\n",
       "</style>\n",
       "<table border=\"1\" class=\"dataframe\">\n",
       "  <thead>\n",
       "    <tr style=\"text-align: right;\">\n",
       "      <th></th>\n",
       "      <th>IMEI Unit</th>\n",
       "      <th>start_time</th>\n",
       "      <th>stop_time</th>\n",
       "      <th>distance_travelled</th>\n",
       "      <th>moving_time</th>\n",
       "      <th>idle_time</th>\n",
       "      <th>speed</th>\n",
       "      <th>Pri. Stat.</th>\n",
       "      <th>Vehicle Door No</th>\n",
       "      <th>Make</th>\n",
       "      <th>Model</th>\n",
       "      <th>Model Year</th>\n",
       "      <th>Activity Type</th>\n",
       "      <th>Activity Type Description</th>\n",
       "      <th>Actual Retired Date</th>\n",
       "      <th>Fuel Type</th>\n",
       "      <th>start_year</th>\n",
       "      <th>stop_year</th>\n",
       "      <th>service_year</th>\n",
       "    </tr>\n",
       "  </thead>\n",
       "  <tbody>\n",
       "    <tr>\n",
       "      <th>0</th>\n",
       "      <td>354725060308701</td>\n",
       "      <td>20141218160701</td>\n",
       "      <td>20141218165301</td>\n",
       "      <td>31.73</td>\n",
       "      <td>1465</td>\n",
       "      <td>935</td>\n",
       "      <td>96</td>\n",
       "      <td>TRP</td>\n",
       "      <td>RT3404</td>\n",
       "      <td>Chevy</td>\n",
       "      <td>Silverado</td>\n",
       "      <td>2014</td>\n",
       "      <td>TL025</td>\n",
       "      <td>Pickup 4x2 1/2 Ton</td>\n",
       "      <td>NaN</td>\n",
       "      <td>Gasoline</td>\n",
       "      <td>2014.0</td>\n",
       "      <td>2025.0</td>\n",
       "      <td>0.0</td>\n",
       "    </tr>\n",
       "    <tr>\n",
       "      <th>1</th>\n",
       "      <td>354725060308701</td>\n",
       "      <td>20141221052118</td>\n",
       "      <td>20141221164320</td>\n",
       "      <td>69.54</td>\n",
       "      <td>3470</td>\n",
       "      <td>1346</td>\n",
       "      <td>111</td>\n",
       "      <td>TRP</td>\n",
       "      <td>RT3404</td>\n",
       "      <td>Chevy</td>\n",
       "      <td>Silverado</td>\n",
       "      <td>2014</td>\n",
       "      <td>TL025</td>\n",
       "      <td>Pickup 4x2 1/2 Ton</td>\n",
       "      <td>NaN</td>\n",
       "      <td>Gasoline</td>\n",
       "      <td>2014.0</td>\n",
       "      <td>2025.0</td>\n",
       "      <td>0.0</td>\n",
       "    </tr>\n",
       "    <tr>\n",
       "      <th>2</th>\n",
       "      <td>354725060308701</td>\n",
       "      <td>20141222051716</td>\n",
       "      <td>20141222164606</td>\n",
       "      <td>61.85</td>\n",
       "      <td>4068</td>\n",
       "      <td>1161</td>\n",
       "      <td>111</td>\n",
       "      <td>TRP</td>\n",
       "      <td>RT3404</td>\n",
       "      <td>Chevy</td>\n",
       "      <td>Silverado</td>\n",
       "      <td>2014</td>\n",
       "      <td>TL025</td>\n",
       "      <td>Pickup 4x2 1/2 Ton</td>\n",
       "      <td>NaN</td>\n",
       "      <td>Gasoline</td>\n",
       "      <td>2014.0</td>\n",
       "      <td>2025.0</td>\n",
       "      <td>0.0</td>\n",
       "    </tr>\n",
       "    <tr>\n",
       "      <th>3</th>\n",
       "      <td>354725060308701</td>\n",
       "      <td>20141223051720</td>\n",
       "      <td>20141223163704</td>\n",
       "      <td>62.67</td>\n",
       "      <td>3528</td>\n",
       "      <td>398</td>\n",
       "      <td>111</td>\n",
       "      <td>TRP</td>\n",
       "      <td>RT3404</td>\n",
       "      <td>Chevy</td>\n",
       "      <td>Silverado</td>\n",
       "      <td>2014</td>\n",
       "      <td>TL025</td>\n",
       "      <td>Pickup 4x2 1/2 Ton</td>\n",
       "      <td>NaN</td>\n",
       "      <td>Gasoline</td>\n",
       "      <td>2014.0</td>\n",
       "      <td>2025.0</td>\n",
       "      <td>0.0</td>\n",
       "    </tr>\n",
       "    <tr>\n",
       "      <th>4</th>\n",
       "      <td>354725060308701</td>\n",
       "      <td>20141224051843</td>\n",
       "      <td>20141224163713</td>\n",
       "      <td>82.17</td>\n",
       "      <td>4760</td>\n",
       "      <td>1222</td>\n",
       "      <td>111</td>\n",
       "      <td>TRP</td>\n",
       "      <td>RT3404</td>\n",
       "      <td>Chevy</td>\n",
       "      <td>Silverado</td>\n",
       "      <td>2014</td>\n",
       "      <td>TL025</td>\n",
       "      <td>Pickup 4x2 1/2 Ton</td>\n",
       "      <td>NaN</td>\n",
       "      <td>Gasoline</td>\n",
       "      <td>2014.0</td>\n",
       "      <td>2025.0</td>\n",
       "      <td>0.0</td>\n",
       "    </tr>\n",
       "  </tbody>\n",
       "</table>\n",
       "</div>"
      ],
      "text/plain": [
       "         IMEI Unit      start_time       stop_time  distance_travelled  \\\n",
       "0  354725060308701  20141218160701  20141218165301               31.73   \n",
       "1  354725060308701  20141221052118  20141221164320               69.54   \n",
       "2  354725060308701  20141222051716  20141222164606               61.85   \n",
       "3  354725060308701  20141223051720  20141223163704               62.67   \n",
       "4  354725060308701  20141224051843  20141224163713               82.17   \n",
       "\n",
       "   moving_time  idle_time  speed Pri. Stat. Vehicle Door No   Make      Model  \\\n",
       "0         1465        935     96        TRP          RT3404  Chevy  Silverado   \n",
       "1         3470       1346    111        TRP          RT3404  Chevy  Silverado   \n",
       "2         4068       1161    111        TRP          RT3404  Chevy  Silverado   \n",
       "3         3528        398    111        TRP          RT3404  Chevy  Silverado   \n",
       "4         4760       1222    111        TRP          RT3404  Chevy  Silverado   \n",
       "\n",
       "   Model Year Activity Type Activity Type Description Actual Retired Date  \\\n",
       "0        2014         TL025        Pickup 4x2 1/2 Ton                 NaN   \n",
       "1        2014         TL025        Pickup 4x2 1/2 Ton                 NaN   \n",
       "2        2014         TL025        Pickup 4x2 1/2 Ton                 NaN   \n",
       "3        2014         TL025        Pickup 4x2 1/2 Ton                 NaN   \n",
       "4        2014         TL025        Pickup 4x2 1/2 Ton                 NaN   \n",
       "\n",
       "  Fuel Type  start_year  stop_year  service_year  \n",
       "0  Gasoline      2014.0     2025.0           0.0  \n",
       "1  Gasoline      2014.0     2025.0           0.0  \n",
       "2  Gasoline      2014.0     2025.0           0.0  \n",
       "3  Gasoline      2014.0     2025.0           0.0  \n",
       "4  Gasoline      2014.0     2025.0           0.0  "
      ]
     },
     "execution_count": 10,
     "metadata": {},
     "output_type": "execute_result"
    }
   ],
   "source": [
    "df = calculate_service_year(merge_df)\n",
    "df.head()"
   ]
  },
  {
   "cell_type": "code",
   "execution_count": 11,
   "metadata": {},
   "outputs": [
    {
     "name": "stdout",
     "output_type": "stream",
     "text": [
      "2024.0 2024.0\n"
     ]
    }
   ],
   "source": [
    "vehicle_2013 = df[df['Model Year'] == 2013]['IMEI Unit'].unique()\n",
    "start_year_2013 = [df[df['IMEI Unit'] == id]['start_year'].min() for id in vehicle_2013]\n",
    "print(min(start_year_2013), max(start_year_2013))"
   ]
  },
  {
   "cell_type": "code",
   "execution_count": 12,
   "metadata": {},
   "outputs": [
    {
     "name": "stdout",
     "output_type": "stream",
     "text": [
      "[[10, np.int64(2014)], [4, np.int64(2015)], [329, np.int64(2022)], [57, np.int64(2021)], [654, np.int64(2023)], [9, np.int64(2020)], [16, np.int64(2018)], [25, np.int64(2019)], [50, np.int64(2013)], [4171, np.int64(2024)]]\n"
     ]
    },
    {
     "data": {
      "text/plain": [
       "Text(0.5, 1.0, 'Number of Vehicles per Model Year')"
      ]
     },
     "execution_count": 12,
     "metadata": {},
     "output_type": "execute_result"
    },
    {
     "data": {
      "image/png": "[encoded data removed]",
      "text/plain": [
       "<Figure size 1000x600 with 1 Axes>"
      ]
     },
     "metadata": {},
     "output_type": "display_data"
    }
   ],
   "source": [
    "model_years = merge_df['Model Year'].unique()\n",
    "num_vehicle_per_model_year = [[merge_df[merge_df['Model Year'] == year]['IMEI Unit'].nunique(), year] for year in model_years]\n",
    "print(num_vehicle_per_model_year)\n",
    "sum([arr[0] for arr in num_vehicle_per_model_year])\n",
    "\n",
    "# Visualization\n",
    "plt.figure(figsize=(10, 6))\n",
    "x_values = [arr[1] for arr in num_vehicle_per_model_year]  # First elements for x-axis\n",
    "y_values = [arr[0] for arr in num_vehicle_per_model_year]  # Second elements for y-axis\n",
    "plt.bar(x_values, y_values, color='skyblue', edgecolor='black')\n",
    "plt.xticks(x_values)\n",
    "plt.xlabel('Model Year')\n",
    "plt.ylabel('Number of Vehicles')\n",
    "plt.title('Number of Vehicles per Model Year')\n",
    "\n"
   ]
  },
  {
   "cell_type": "code",
   "execution_count": 14,
   "metadata": {},
   "outputs": [
    {
     "data": {
      "text/plain": [
       "([<matplotlib.axis.XTick at 0x116c65180>,\n",
       "  <matplotlib.axis.XTick at 0x116c647f0>,\n",
       "  <matplotlib.axis.XTick at 0x116c89780>],\n",
       " [Text(2014.0, 0, '2014'), Text(2024.0, 0, '2024'), Text(2025.0, 0, '2025')])"
      ]
     },
     "execution_count": 14,
     "metadata": {},
     "output_type": "execute_result"
    },
    {
     "data": {
      "image/png": "[encoded data removed]",
      "text/plain": [
       "<Figure size 1000x600 with 1 Axes>"
      ]
     },
     "metadata": {},
     "output_type": "display_data"
    }
   ],
   "source": [
    "num_vehicle_per_start_year = df.groupby('start_year')['IMEI Unit'].nunique()\n",
    "plt.figure(figsize=(10, 6))\n",
    "plt.bar(num_vehicle_per_start_year.index, num_vehicle_per_start_year.values, color='skyblue', edgecolor='black')\n",
    "plt.xlabel('Start Year')        \n",
    "plt.ylabel('Number of Vehicles')\n",
    "plt.xticks(num_vehicle_per_start_year.index)"
   ]
  },
  {
   "cell_type": "code",
   "execution_count": 15,
   "metadata": {},
   "outputs": [
    {
     "data": {
      "text/plain": [
       "([<matplotlib.axis.XTick at 0x116cb7970>,\n",
       "  <matplotlib.axis.XTick at 0x116c23940>],\n",
       " [Text(2024.0, 0, '2024'), Text(2025.0, 0, '2025')])"
      ]
     },
     "execution_count": 15,
     "metadata": {},
     "output_type": "execute_result"
    },
    {
     "data": {
      "image/png": "[encoded data removed]",
      "text/plain": [
       "<Figure size 1000x600 with 1 Axes>"
      ]
     },
     "metadata": {},
     "output_type": "display_data"
    }
   ],
   "source": [
    "num_vehicle_per_start_year = df.groupby('stop_year')['IMEI Unit'].nunique()\n",
    "plt.figure(figsize=(10, 6))\n",
    "plt.bar(num_vehicle_per_start_year.index, num_vehicle_per_start_year.values, color='skyblue', edgecolor='black')\n",
    "plt.xlabel('Stop Year')        \n",
    "plt.ylabel('Number of Vehicles')\n",
    "plt.xticks(num_vehicle_per_start_year.index)"
   ]
  },
  {
   "cell_type": "code",
   "execution_count": 8,
   "metadata": {},
   "outputs": [
    {
     "name": "stderr",
     "output_type": "stream",
     "text": [
      "/var/folders/rh/5tkty3715h119sm4y35zw4dr0000gn/T/ipykernel_95684/3818871351.py:2: DtypeWarning: Columns (0) have mixed types. Specify dtype option on import or set low_memory=False.\n",
      "  avl_df = pd.read_csv('../RND.csv')\n"
     ]
    },
    {
     "data": {
      "text/html": [
       "<div>\n",
       "<style scoped>\n",
       "    .dataframe tbody tr th:only-of-type {\n",
       "        vertical-align: middle;\n",
       "    }\n",
       "\n",
       "    .dataframe tbody tr th {\n",
       "        vertical-align: top;\n",
       "    }\n",
       "\n",
       "    .dataframe thead th {\n",
       "        text-align: right;\n",
       "    }\n",
       "</style>\n",
       "<table border=\"1\" class=\"dataframe\">\n",
       "  <thead>\n",
       "    <tr style=\"text-align: right;\">\n",
       "      <th></th>\n",
       "      <th>IMEI Unit</th>\n",
       "      <th>start_time</th>\n",
       "      <th>stop_time</th>\n",
       "      <th>distance_travelled</th>\n",
       "      <th>moving_time</th>\n",
       "      <th>idle_time</th>\n",
       "      <th>speed</th>\n",
       "    </tr>\n",
       "  </thead>\n",
       "  <tbody>\n",
       "    <tr>\n",
       "      <th>0</th>\n",
       "      <td>355200040542414</td>\n",
       "      <td>20130721052048</td>\n",
       "      <td>20130721124940</td>\n",
       "      <td>105.0</td>\n",
       "      <td>4999</td>\n",
       "      <td>418</td>\n",
       "      <td>104</td>\n",
       "    </tr>\n",
       "    <tr>\n",
       "      <th>1</th>\n",
       "      <td>355200040542414</td>\n",
       "      <td>20130722051631</td>\n",
       "      <td>20130722115322</td>\n",
       "      <td>218.0</td>\n",
       "      <td>10550</td>\n",
       "      <td>514</td>\n",
       "      <td>106</td>\n",
       "    </tr>\n",
       "    <tr>\n",
       "      <th>2</th>\n",
       "      <td>355200040542414</td>\n",
       "      <td>20130723060459</td>\n",
       "      <td>20130723122704</td>\n",
       "      <td>105.0</td>\n",
       "      <td>5181</td>\n",
       "      <td>747</td>\n",
       "      <td>104</td>\n",
       "    </tr>\n",
       "    <tr>\n",
       "      <th>3</th>\n",
       "      <td>355200040542414</td>\n",
       "      <td>20130724055705</td>\n",
       "      <td>20130724132215</td>\n",
       "      <td>184.0</td>\n",
       "      <td>8613</td>\n",
       "      <td>412</td>\n",
       "      <td>106</td>\n",
       "    </tr>\n",
       "    <tr>\n",
       "      <th>4</th>\n",
       "      <td>355200040542414</td>\n",
       "      <td>20130725050633</td>\n",
       "      <td>20130725140301</td>\n",
       "      <td>140.0</td>\n",
       "      <td>6031</td>\n",
       "      <td>102</td>\n",
       "      <td>120</td>\n",
       "    </tr>\n",
       "  </tbody>\n",
       "</table>\n",
       "</div>"
      ],
      "text/plain": [
       "         IMEI Unit      start_time       stop_time  distance_travelled  \\\n",
       "0  355200040542414  20130721052048  20130721124940               105.0   \n",
       "1  355200040542414  20130722051631  20130722115322               218.0   \n",
       "2  355200040542414  20130723060459  20130723122704               105.0   \n",
       "3  355200040542414  20130724055705  20130724132215               184.0   \n",
       "4  355200040542414  20130725050633  20130725140301               140.0   \n",
       "\n",
       "   moving_time  idle_time  speed  \n",
       "0         4999        418    104  \n",
       "1        10550        514    106  \n",
       "2         5181        747    104  \n",
       "3         8613        412    106  \n",
       "4         6031        102    120  "
      ]
     },
     "execution_count": 8,
     "metadata": {},
     "output_type": "execute_result"
    }
   ],
   "source": [
    "# plot start year distribution for all vehicles\n",
    "avl_df = pd.read_csv('../RND.csv')\n",
    "avl_df.columns = ['IMEI Unit', 'start_time', 'stop_time', 'distance_travelled', 'moving_time', 'idle_time', 'speed']\n",
    "ids = avl_df['IMEI Unit'].unique()\n",
    "avl_df.head()\n"
   ]
  },
  {
   "cell_type": "code",
   "execution_count": 17,
   "metadata": {},
   "outputs": [],
   "source": [
    "avl_df['start_year'] = avl_df['start_time'].apply(lambda x: int(str(x)[:4]))\n",
    "vehicle_year = avl_df.groupby('IMEI Unit')['start_year'].min()"
   ]
  },
  {
   "cell_type": "code",
   "execution_count": 23,
   "metadata": {},
   "outputs": [
    {
     "data": {
      "text/html": [
       "<div>\n",
       "<style scoped>\n",
       "    .dataframe tbody tr th:only-of-type {\n",
       "        vertical-align: middle;\n",
       "    }\n",
       "\n",
       "    .dataframe tbody tr th {\n",
       "        vertical-align: top;\n",
       "    }\n",
       "\n",
       "    .dataframe thead th {\n",
       "        text-align: right;\n",
       "    }\n",
       "</style>\n",
       "<table border=\"1\" class=\"dataframe\">\n",
       "  <thead>\n",
       "    <tr style=\"text-align: right;\">\n",
       "      <th></th>\n",
       "      <th>IMEI Unit</th>\n",
       "      <th>start_year</th>\n",
       "    </tr>\n",
       "  </thead>\n",
       "  <tbody>\n",
       "    <tr>\n",
       "      <th>0</th>\n",
       "      <td>352739090070571</td>\n",
       "      <td>2024</td>\n",
       "    </tr>\n",
       "    <tr>\n",
       "      <th>1</th>\n",
       "      <td>352739092194015</td>\n",
       "      <td>2024</td>\n",
       "    </tr>\n",
       "    <tr>\n",
       "      <th>2</th>\n",
       "      <td>352739092202115</td>\n",
       "      <td>2024</td>\n",
       "    </tr>\n",
       "    <tr>\n",
       "      <th>3</th>\n",
       "      <td>352739092204095</td>\n",
       "      <td>2024</td>\n",
       "    </tr>\n",
       "    <tr>\n",
       "      <th>4</th>\n",
       "      <td>352739092240982</td>\n",
       "      <td>2024</td>\n",
       "    </tr>\n",
       "  </tbody>\n",
       "</table>\n",
       "</div>"
      ],
      "text/plain": [
       "         IMEI Unit  start_year\n",
       "0  352739090070571        2024\n",
       "1  352739092194015        2024\n",
       "2  352739092202115        2024\n",
       "3  352739092204095        2024\n",
       "4  352739092240982        2024"
      ]
     },
     "execution_count": 23,
     "metadata": {},
     "output_type": "execute_result"
    }
   ],
   "source": [
    "vehicle_year_df = pd.DataFrame(vehicle_year)\n",
    "vehicle_year_df = vehicle_year_df.reset_index()\n",
    "vehicle_year_df.head()\n"
   ]
  },
  {
   "cell_type": "code",
   "execution_count": 26,
   "metadata": {},
   "outputs": [
    {
     "data": {
      "text/plain": [
       "([<matplotlib.axis.XTick at 0x14a918dc0>,\n",
       "  <matplotlib.axis.XTick at 0x14a918430>,\n",
       "  <matplotlib.axis.XTick at 0x14a8f6a40>,\n",
       "  <matplotlib.axis.XTick at 0x14a8f7730>,\n",
       "  <matplotlib.axis.XTick at 0x1200e8460>,\n",
       "  <matplotlib.axis.XTick at 0x14a8f6e90>,\n",
       "  <matplotlib.axis.XTick at 0x1200e94b0>,\n",
       "  <matplotlib.axis.XTick at 0x1200ea1a0>,\n",
       "  <matplotlib.axis.XTick at 0x1200eae90>,\n",
       "  <matplotlib.axis.XTick at 0x14a8f6110>,\n",
       "  <matplotlib.axis.XTick at 0x1200ebdc0>,\n",
       "  <matplotlib.axis.XTick at 0x120108af0>,\n",
       "  <matplotlib.axis.XTick at 0x1201097e0>],\n",
       " [Text(2013, 0, '2013'),\n",
       "  Text(2014, 0, '2014'),\n",
       "  Text(2015, 0, '2015'),\n",
       "  Text(2016, 0, '2016'),\n",
       "  Text(2017, 0, '2017'),\n",
       "  Text(2018, 0, '2018'),\n",
       "  Text(2019, 0, '2019'),\n",
       "  Text(2020, 0, '2020'),\n",
       "  Text(2021, 0, '2021'),\n",
       "  Text(2022, 0, '2022'),\n",
       "  Text(2023, 0, '2023'),\n",
       "  Text(2024, 0, '2024'),\n",
       "  Text(2025, 0, '2025')])"
      ]
     },
     "execution_count": 26,
     "metadata": {},
     "output_type": "execute_result"
    },
    {
     "data": {
      "image/png": "[encoded data removed]",
      "text/plain": [
       "<Figure size 1000x600 with 1 Axes>"
      ]
     },
     "metadata": {},
     "output_type": "display_data"
    }
   ],
   "source": [
    "num_vehicle_per_start_year = vehicle_year_df.groupby('start_year')['IMEI Unit'].nunique()\n",
    "plt.figure(figsize=(10, 6))\n",
    "plt.bar(num_vehicle_per_start_year.index, num_vehicle_per_start_year.values, color='skyblue', edgecolor='black')        \n",
    "plt.xlabel('Start Year')\n",
    "plt.ylabel('Number of Vehicles')\n",
    "plt.title('Start Year Distribution for All Vehicles in AVL Data File')\n",
    "plt.xticks(num_vehicle_per_start_year.index)"
   ]
  }
 ],
 "metadata": {
  "kernelspec": {
   "display_name": ".venv",
   "language": "python",
   "name": "python3"
  },
  "language_info": {
   "codemirror_mode": {
    "name": "ipython",
    "version": 3
   },
   "file_extension": ".py",
   "mimetype": "text/x-python",
   "name": "python",
   "nbconvert_exporter": "python",
   "pygments_lexer": "ipython3",
   "version": "3.10.12"
  }
 },
 "nbformat": 4,
 "nbformat_minor": 2
}
