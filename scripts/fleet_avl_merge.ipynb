{
 "cells": [
  {
   "cell_type": "code",
   "execution_count": 5,
   "metadata": {},
   "outputs": [],
   "source": [
    "import pandas as pd\n",
    "import numpy as np\n",
    "import matplotlib.pyplot as plt\n",
    "import seaborn as sns\n",
    "from scipy import stats\n",
    "\n",
    "def merge_fleet_avl(fleet_data_path, avl_data_path):\n",
    "    avl_data = pd.read_csv(avl_data_path)\n",
    "    fleet_data = pd.read_excel(fleet_data_path)\n",
    "    avl_data.columns = ['IMEI Unit', 'start_time', 'stop_time', 'distance_travelled', 'moving_time', 'idle_time', 'speed']\n",
    "    merge_df = pd.merge(avl_data, fleet_data, on='IMEI Unit', how='inner')\n",
    "    merge_df = merge_df.drop(merge_df.iloc[:, -2:].columns, axis=1)\n",
    "    \n",
    "    return merge_df\n",
    "\n",
    "\n",
    "def calculate_service_year(df):\n",
    "    vehicle_ids = df['IMEI Unit'].unique()\n",
    "    for id in vehicle_ids:\n",
    "        start_year = df.loc[df['IMEI Unit'] == id, 'start_time'].min()\n",
    "        start_year = int(str(start_year)[:4])\n",
    "        stop_year = df.loc[df['IMEI Unit'] == id, 'stop_time'].max()\n",
    "        stop_year = int(str(stop_year)[:4])\n",
    "        df.loc[df['IMEI Unit'] == id, 'start_year'] = start_year\n",
    "        df.loc[df['IMEI Unit'] == id, 'stop_year'] = stop_year\n",
    "\n",
    "        if stop_year < 2025:            \n",
    "            service_year = stop_year - start_year                      \n",
    "            df.loc[df['IMEI Unit'] == id, 'service_year'] = service_year\n",
    "        else:  # if stop year is 2025, the vehicle is still in service, we assume service-year of this vehicle is 0 for now\n",
    "            df.loc[df['IMEI Unit'] == id, 'service_year'] = 0   \n",
    "\n",
    "    return df"
   ]
  },
  {
   "cell_type": "code",
   "execution_count": 138,
   "metadata": {},
   "outputs": [
    {
     "name": "stderr",
     "output_type": "stream",
     "text": [
      "d:\\projects\\SAO fleet modeling\\fleet_modeling_repo\\.venv\\lib\\site-packages\\IPython\\core\\interactiveshell.py:3553: DtypeWarning: Columns (0) have mixed types.Specify dtype option on import or set low_memory=False.\n",
      "  exec(code_obj, self.user_global_ns, self.user_ns)\n"
     ]
    },
    {
     "name": "stdout",
     "output_type": "stream",
     "text": [
      "24875 11254\n"
     ]
    },
    {
     "data": {
      "text/plain": [
       "5325"
      ]
     },
     "execution_count": 138,
     "metadata": {},
     "output_type": "execute_result"
    }
   ],
   "source": [
    "avl_data_path = '../RND.csv'\n",
    "fleet_data_path = '../Aramco Leased Vehicles - from 2012 up-to-date.xlsx'\n",
    "avl_data = pd.read_csv(avl_data_path)\n",
    "fleet_data = pd.read_excel(fleet_data_path)\n",
    "avl_data.columns = ['IMEI Unit', 'start_time', 'stop_time', 'distance_travelled', 'moving_time', 'idle_time', 'speed']\n",
    "print(len(avl_data['IMEI Unit'].unique()), len(fleet_data['IMEI Unit'].unique()))\n",
    "len(set(avl_data['IMEI Unit'].unique()) & set(fleet_data['IMEI Unit'].unique()))"
   ]
  },
  {
   "cell_type": "code",
   "execution_count": null,
   "metadata": {},
   "outputs": [
    {
     "data": {
      "text/html": [
       "<div>\n",
       "<style scoped>\n",
       "    .dataframe tbody tr th:only-of-type {\n",
       "        vertical-align: middle;\n",
       "    }\n",
       "\n",
       "    .dataframe tbody tr th {\n",
       "        vertical-align: top;\n",
       "    }\n",
       "\n",
       "    .dataframe thead th {\n",
       "        text-align: right;\n",
       "    }\n",
       "</style>\n",
       "<table border=\"1\" class=\"dataframe\">\n",
       "  <thead>\n",
       "    <tr style=\"text-align: right;\">\n",
       "      <th></th>\n",
       "      <th>IMEI Unit</th>\n",
       "      <th>start_time</th>\n",
       "      <th>stop_time</th>\n",
       "      <th>distance_travelled</th>\n",
       "      <th>moving_time</th>\n",
       "      <th>idle_time</th>\n",
       "      <th>speed</th>\n",
       "      <th>Pri. Stat.</th>\n",
       "      <th>Vehicle Door No</th>\n",
       "      <th>Make</th>\n",
       "      <th>Model</th>\n",
       "      <th>Model Year</th>\n",
       "      <th>Activity Type</th>\n",
       "      <th>Activity Type Description</th>\n",
       "      <th>Actual Retired Date</th>\n",
       "      <th>Fuel Type</th>\n",
       "      <th>start_year</th>\n",
       "      <th>stop_year</th>\n",
       "      <th>service_year</th>\n",
       "    </tr>\n",
       "  </thead>\n",
       "  <tbody>\n",
       "    <tr>\n",
       "      <th>0</th>\n",
       "      <td>354725060308701</td>\n",
       "      <td>20141218160701</td>\n",
       "      <td>20141218165301</td>\n",
       "      <td>31.73</td>\n",
       "      <td>1465</td>\n",
       "      <td>935</td>\n",
       "      <td>96</td>\n",
       "      <td>TRP</td>\n",
       "      <td>RT3404</td>\n",
       "      <td>Chevy</td>\n",
       "      <td>Silverado</td>\n",
       "      <td>2014</td>\n",
       "      <td>TL025</td>\n",
       "      <td>Pickup 4x2 1/2 Ton</td>\n",
       "      <td>NaN</td>\n",
       "      <td>Gasoline</td>\n",
       "      <td>2014.0</td>\n",
       "      <td>2025.0</td>\n",
       "      <td>0.0</td>\n",
       "    </tr>\n",
       "    <tr>\n",
       "      <th>1</th>\n",
       "      <td>354725060308701</td>\n",
       "      <td>20141221052118</td>\n",
       "      <td>20141221164320</td>\n",
       "      <td>69.54</td>\n",
       "      <td>3470</td>\n",
       "      <td>1346</td>\n",
       "      <td>111</td>\n",
       "      <td>TRP</td>\n",
       "      <td>RT3404</td>\n",
       "      <td>Chevy</td>\n",
       "      <td>Silverado</td>\n",
       "      <td>2014</td>\n",
       "      <td>TL025</td>\n",
       "      <td>Pickup 4x2 1/2 Ton</td>\n",
       "      <td>NaN</td>\n",
       "      <td>Gasoline</td>\n",
       "      <td>2014.0</td>\n",
       "      <td>2025.0</td>\n",
       "      <td>0.0</td>\n",
       "    </tr>\n",
       "    <tr>\n",
       "      <th>2</th>\n",
       "      <td>354725060308701</td>\n",
       "      <td>20141222051716</td>\n",
       "      <td>20141222164606</td>\n",
       "      <td>61.85</td>\n",
       "      <td>4068</td>\n",
       "      <td>1161</td>\n",
       "      <td>111</td>\n",
       "      <td>TRP</td>\n",
       "      <td>RT3404</td>\n",
       "      <td>Chevy</td>\n",
       "      <td>Silverado</td>\n",
       "      <td>2014</td>\n",
       "      <td>TL025</td>\n",
       "      <td>Pickup 4x2 1/2 Ton</td>\n",
       "      <td>NaN</td>\n",
       "      <td>Gasoline</td>\n",
       "      <td>2014.0</td>\n",
       "      <td>2025.0</td>\n",
       "      <td>0.0</td>\n",
       "    </tr>\n",
       "    <tr>\n",
       "      <th>3</th>\n",
       "      <td>354725060308701</td>\n",
       "      <td>20141223051720</td>\n",
       "      <td>20141223163704</td>\n",
       "      <td>62.67</td>\n",
       "      <td>3528</td>\n",
       "      <td>398</td>\n",
       "      <td>111</td>\n",
       "      <td>TRP</td>\n",
       "      <td>RT3404</td>\n",
       "      <td>Chevy</td>\n",
       "      <td>Silverado</td>\n",
       "      <td>2014</td>\n",
       "      <td>TL025</td>\n",
       "      <td>Pickup 4x2 1/2 Ton</td>\n",
       "      <td>NaN</td>\n",
       "      <td>Gasoline</td>\n",
       "      <td>2014.0</td>\n",
       "      <td>2025.0</td>\n",
       "      <td>0.0</td>\n",
       "    </tr>\n",
       "    <tr>\n",
       "      <th>4</th>\n",
       "      <td>354725060308701</td>\n",
       "      <td>20141224051843</td>\n",
       "      <td>20141224163713</td>\n",
       "      <td>82.17</td>\n",
       "      <td>4760</td>\n",
       "      <td>1222</td>\n",
       "      <td>111</td>\n",
       "      <td>TRP</td>\n",
       "      <td>RT3404</td>\n",
       "      <td>Chevy</td>\n",
       "      <td>Silverado</td>\n",
       "      <td>2014</td>\n",
       "      <td>TL025</td>\n",
       "      <td>Pickup 4x2 1/2 Ton</td>\n",
       "      <td>NaN</td>\n",
       "      <td>Gasoline</td>\n",
       "      <td>2014.0</td>\n",
       "      <td>2025.0</td>\n",
       "      <td>0.0</td>\n",
       "    </tr>\n",
       "  </tbody>\n",
       "</table>\n",
       "</div>"
      ],
      "text/plain": [
       "         IMEI Unit      start_time       stop_time  distance_travelled  \\\n",
       "0  354725060308701  20141218160701  20141218165301               31.73   \n",
       "1  354725060308701  20141221052118  20141221164320               69.54   \n",
       "2  354725060308701  20141222051716  20141222164606               61.85   \n",
       "3  354725060308701  20141223051720  20141223163704               62.67   \n",
       "4  354725060308701  20141224051843  20141224163713               82.17   \n",
       "\n",
       "   moving_time  idle_time  speed Pri. Stat. Vehicle Door No   Make      Model  \\\n",
       "0         1465        935     96        TRP          RT3404  Chevy  Silverado   \n",
       "1         3470       1346    111        TRP          RT3404  Chevy  Silverado   \n",
       "2         4068       1161    111        TRP          RT3404  Chevy  Silverado   \n",
       "3         3528        398    111        TRP          RT3404  Chevy  Silverado   \n",
       "4         4760       1222    111        TRP          RT3404  Chevy  Silverado   \n",
       "\n",
       "   Model Year Activity Type Activity Type Description Actual Retired Date  \\\n",
       "0        2014         TL025        Pickup 4x2 1/2 Ton                 NaN   \n",
       "1        2014         TL025        Pickup 4x2 1/2 Ton                 NaN   \n",
       "2        2014         TL025        Pickup 4x2 1/2 Ton                 NaN   \n",
       "3        2014         TL025        Pickup 4x2 1/2 Ton                 NaN   \n",
       "4        2014         TL025        Pickup 4x2 1/2 Ton                 NaN   \n",
       "\n",
       "  Fuel Type  start_year  stop_year  service_year  \n",
       "0  Gasoline      2014.0     2025.0           0.0  \n",
       "1  Gasoline      2014.0     2025.0           0.0  \n",
       "2  Gasoline      2014.0     2025.0           0.0  \n",
       "3  Gasoline      2014.0     2025.0           0.0  \n",
       "4  Gasoline      2014.0     2025.0           0.0  "
      ]
     },
     "execution_count": 34,
     "metadata": {},
     "output_type": "execute_result"
    }
   ],
   "source": [
    "avl_data_path = '../RND.csv'\n",
    "fleet_data_path = '../Aramco Leased Vehicles - from 2012 up-to-date.xlsx'\n",
    "merge_df = merge_fleet_avl(fleet_data_path, avl_data_path)\n",
    "merge_df.head()"
   ]
  },
  {
   "cell_type": "code",
   "execution_count": 39,
   "metadata": {},
   "outputs": [
    {
     "data": {
      "text/plain": [
       "5325"
      ]
     },
     "execution_count": 39,
     "metadata": {},
     "output_type": "execute_result"
    }
   ],
   "source": [
    "merge_df['IMEI Unit'].nunique()"
   ]
  },
  {
   "cell_type": "code",
   "execution_count": 143,
   "metadata": {},
   "outputs": [
    {
     "data": {
      "text/plain": [
       "array([355200045061493, 868259022923596, 869395036633687, 355515790182651,\n",
       "       352739095524531, 868822040404301, 355200045082978, 869395037841396,\n",
       "       354725060327016, 355200040463728, 357207054954979, 359394052112681,\n",
       "       355200045113583, 359394053811281, 359394053800169, 357207054955299,\n",
       "       359394053783589, 359394053783506, 359394053782409, 359394053783779,\n",
       "       359394053812503, 359394052111477, 359394053851071, 359394053854620,\n",
       "       359394052113168, 359394053791822, 359394053853556, 359394053794347,\n",
       "       357207054956958, 359394053854471, 357207052925559, 357207051359214,\n",
       "       357207053817243, 357207052926946, 359394052113861, 359394053787143,\n",
       "       359394053854638, 359394053811331, 359394053810085, 359394052104258,\n",
       "       357207053819181, 359394053785873, 359394053783423, 359394052105388,\n",
       "       359394053829838, 355200045039762, 359394053838250, 355200045041933,\n",
       "       355200046941487, 357207053820973], dtype=object)"
      ]
     },
     "execution_count": 143,
     "metadata": {},
     "output_type": "execute_result"
    }
   ],
   "source": [
    "merge_df[merge_df['Model Year'] == 2013]['IMEI Unit'].unique()"
   ]
  },
  {
   "cell_type": "code",
   "execution_count": 116,
   "metadata": {},
   "outputs": [
    {
     "name": "stdout",
     "output_type": "stream",
     "text": [
      "2024.0 2024.0\n"
     ]
    }
   ],
   "source": [
    "vehicle_2013 = merge_df[merge_df['Model Year'] == 2013]['IMEI Unit'].unique()\n",
    "start_year_2013 = [merge_df[merge_df['IMEI Unit'] == id]['start_year'].min() for id in vehicle_2013]\n",
    "print(min(start_year_2013), max(start_year_2013))"
   ]
  },
  {
   "cell_type": "code",
   "execution_count": null,
   "metadata": {},
   "outputs": [
    {
     "name": "stdout",
     "output_type": "stream",
     "text": [
      "[[10, 2014], [4, 2015], [329, 2022], [57, 2021], [654, 2023], [9, 2020], [16, 2018], [25, 2019], [50, 2013], [4171, 2024]]\n"
     ]
    },
    {
     "data": {
      "text/plain": [
       "Text(0.5, 1.0, 'Number of Vehicles per Model Year')"
      ]
     },
     "execution_count": 137,
     "metadata": {},
     "output_type": "execute_result"
    },
    {
     "data": {
      "image/png": "[encoded data removed]",
      "text/plain": [
       "<Figure size 1000x600 with 1 Axes>"
      ]
     },
     "metadata": {},
     "output_type": "display_data"
    }
   ],
   "source": [
    "model_years = merge_df['Model Year'].unique()\n",
    "num_vehicle_per_model_year = [[merge_df[merge_df['Model Year'] == year]['IMEI Unit'].nunique(), year] for year in model_years]\n",
    "print(num_vehicle_per_model_year)\n",
    "sum([arr[0] for arr in num_vehicle_per_model_year])\n",
    "\n",
    "# Visualization\n",
    "plt.figure(figsize=(10, 6))\n",
    "x_values = [arr[1] for arr in num_vehicle_per_model_year]  # First elements for x-axis\n",
    "y_values = [arr[0] for arr in num_vehicle_per_model_year]  # Second elements for y-axis\n",
    "plt.bar(x_values, y_values, color='skyblue', edgecolor='black')\n",
    "plt.xticks(x_values)\n",
    "plt.xlabel('Model Year')\n",
    "plt.ylabel('Number of Vehicles')\n",
    "plt.title('Number of Vehicles per Model Year')\n",
    "\n"
   ]
  },
  {
   "cell_type": "code",
   "execution_count": 140,
   "metadata": {},
   "outputs": [
    {
     "data": {
      "text/plain": [
       "Text(0, 0.5, 'Number of Vehicles')"
      ]
     },
     "execution_count": 140,
     "metadata": {},
     "output_type": "execute_result"
    },
    {
     "data": {
      "image/png": "[encoded data removed]",
      "text/plain": [
       "<Figure size 1000x600 with 1 Axes>"
      ]
     },
     "metadata": {},
     "output_type": "display_data"
    }
   ],
   "source": [
    "num_vehicle_per_start_year = merge_df.groupby('start_year')['IMEI Unit'].nunique()\n",
    "plt.figure(figsize=(10, 6))\n",
    "plt.bar(num_vehicle_per_start_year.index, num_vehicle_per_start_year.values, color='skyblue', edgecolor='black')\n",
    "plt.xlabel('Start Year')        \n",
    "plt.ylabel('Number of Vehicles')"
   ]
  },
  {
   "cell_type": "code",
   "execution_count": 6,
   "metadata": {},
   "outputs": [
    {
     "data": {
      "text/html": [
       "<div>\n",
       "<style scoped>\n",
       "    .dataframe tbody tr th:only-of-type {\n",
       "        vertical-align: middle;\n",
       "    }\n",
       "\n",
       "    .dataframe tbody tr th {\n",
       "        vertical-align: top;\n",
       "    }\n",
       "\n",
       "    .dataframe thead th {\n",
       "        text-align: right;\n",
       "    }\n",
       "</style>\n",
       "<table border=\"1\" class=\"dataframe\">\n",
       "  <thead>\n",
       "    <tr style=\"text-align: right;\">\n",
       "      <th></th>\n",
       "      <th>IMEI Unit</th>\n",
       "      <th>start_time</th>\n",
       "      <th>stop_time</th>\n",
       "      <th>distance_travelled</th>\n",
       "      <th>moving_time</th>\n",
       "      <th>idle_time</th>\n",
       "      <th>speed</th>\n",
       "      <th>Pri. Stat.</th>\n",
       "      <th>Vehicle Door No</th>\n",
       "      <th>Make</th>\n",
       "      <th>Model</th>\n",
       "      <th>Model Year</th>\n",
       "      <th>Activity Type</th>\n",
       "      <th>Activity Type Description</th>\n",
       "      <th>Actual Retired Date</th>\n",
       "      <th>Fuel Type</th>\n",
       "      <th>start_year</th>\n",
       "      <th>stop_year</th>\n",
       "      <th>service_year</th>\n",
       "    </tr>\n",
       "  </thead>\n",
       "  <tbody>\n",
       "    <tr>\n",
       "      <th>0</th>\n",
       "      <td>354725060308701</td>\n",
       "      <td>20141218160701</td>\n",
       "      <td>20141218165301</td>\n",
       "      <td>31.73</td>\n",
       "      <td>1465</td>\n",
       "      <td>935</td>\n",
       "      <td>96</td>\n",
       "      <td>TRP</td>\n",
       "      <td>RT3404</td>\n",
       "      <td>Chevy</td>\n",
       "      <td>Silverado</td>\n",
       "      <td>2014</td>\n",
       "      <td>TL025</td>\n",
       "      <td>Pickup 4x2 1/2 Ton</td>\n",
       "      <td>NaN</td>\n",
       "      <td>Gasoline</td>\n",
       "      <td>2014.0</td>\n",
       "      <td>2025.0</td>\n",
       "      <td>0.0</td>\n",
       "    </tr>\n",
       "    <tr>\n",
       "      <th>1</th>\n",
       "      <td>354725060308701</td>\n",
       "      <td>20141221052118</td>\n",
       "      <td>20141221164320</td>\n",
       "      <td>69.54</td>\n",
       "      <td>3470</td>\n",
       "      <td>1346</td>\n",
       "      <td>111</td>\n",
       "      <td>TRP</td>\n",
       "      <td>RT3404</td>\n",
       "      <td>Chevy</td>\n",
       "      <td>Silverado</td>\n",
       "      <td>2014</td>\n",
       "      <td>TL025</td>\n",
       "      <td>Pickup 4x2 1/2 Ton</td>\n",
       "      <td>NaN</td>\n",
       "      <td>Gasoline</td>\n",
       "      <td>2014.0</td>\n",
       "      <td>2025.0</td>\n",
       "      <td>0.0</td>\n",
       "    </tr>\n",
       "    <tr>\n",
       "      <th>2</th>\n",
       "      <td>354725060308701</td>\n",
       "      <td>20141222051716</td>\n",
       "      <td>20141222164606</td>\n",
       "      <td>61.85</td>\n",
       "      <td>4068</td>\n",
       "      <td>1161</td>\n",
       "      <td>111</td>\n",
       "      <td>TRP</td>\n",
       "      <td>RT3404</td>\n",
       "      <td>Chevy</td>\n",
       "      <td>Silverado</td>\n",
       "      <td>2014</td>\n",
       "      <td>TL025</td>\n",
       "      <td>Pickup 4x2 1/2 Ton</td>\n",
       "      <td>NaN</td>\n",
       "      <td>Gasoline</td>\n",
       "      <td>2014.0</td>\n",
       "      <td>2025.0</td>\n",
       "      <td>0.0</td>\n",
       "    </tr>\n",
       "    <tr>\n",
       "      <th>3</th>\n",
       "      <td>354725060308701</td>\n",
       "      <td>20141223051720</td>\n",
       "      <td>20141223163704</td>\n",
       "      <td>62.67</td>\n",
       "      <td>3528</td>\n",
       "      <td>398</td>\n",
       "      <td>111</td>\n",
       "      <td>TRP</td>\n",
       "      <td>RT3404</td>\n",
       "      <td>Chevy</td>\n",
       "      <td>Silverado</td>\n",
       "      <td>2014</td>\n",
       "      <td>TL025</td>\n",
       "      <td>Pickup 4x2 1/2 Ton</td>\n",
       "      <td>NaN</td>\n",
       "      <td>Gasoline</td>\n",
       "      <td>2014.0</td>\n",
       "      <td>2025.0</td>\n",
       "      <td>0.0</td>\n",
       "    </tr>\n",
       "    <tr>\n",
       "      <th>4</th>\n",
       "      <td>354725060308701</td>\n",
       "      <td>20141224051843</td>\n",
       "      <td>20141224163713</td>\n",
       "      <td>82.17</td>\n",
       "      <td>4760</td>\n",
       "      <td>1222</td>\n",
       "      <td>111</td>\n",
       "      <td>TRP</td>\n",
       "      <td>RT3404</td>\n",
       "      <td>Chevy</td>\n",
       "      <td>Silverado</td>\n",
       "      <td>2014</td>\n",
       "      <td>TL025</td>\n",
       "      <td>Pickup 4x2 1/2 Ton</td>\n",
       "      <td>NaN</td>\n",
       "      <td>Gasoline</td>\n",
       "      <td>2014.0</td>\n",
       "      <td>2025.0</td>\n",
       "      <td>0.0</td>\n",
       "    </tr>\n",
       "  </tbody>\n",
       "</table>\n",
       "</div>"
      ],
      "text/plain": [
       "         IMEI Unit      start_time       stop_time  distance_travelled  \\\n",
       "0  354725060308701  20141218160701  20141218165301               31.73   \n",
       "1  354725060308701  20141221052118  20141221164320               69.54   \n",
       "2  354725060308701  20141222051716  20141222164606               61.85   \n",
       "3  354725060308701  20141223051720  20141223163704               62.67   \n",
       "4  354725060308701  20141224051843  20141224163713               82.17   \n",
       "\n",
       "   moving_time  idle_time  speed Pri. Stat. Vehicle Door No   Make      Model  \\\n",
       "0         1465        935     96        TRP          RT3404  Chevy  Silverado   \n",
       "1         3470       1346    111        TRP          RT3404  Chevy  Silverado   \n",
       "2         4068       1161    111        TRP          RT3404  Chevy  Silverado   \n",
       "3         3528        398    111        TRP          RT3404  Chevy  Silverado   \n",
       "4         4760       1222    111        TRP          RT3404  Chevy  Silverado   \n",
       "\n",
       "   Model Year Activity Type Activity Type Description Actual Retired Date  \\\n",
       "0        2014         TL025        Pickup 4x2 1/2 Ton                 NaN   \n",
       "1        2014         TL025        Pickup 4x2 1/2 Ton                 NaN   \n",
       "2        2014         TL025        Pickup 4x2 1/2 Ton                 NaN   \n",
       "3        2014         TL025        Pickup 4x2 1/2 Ton                 NaN   \n",
       "4        2014         TL025        Pickup 4x2 1/2 Ton                 NaN   \n",
       "\n",
       "  Fuel Type  start_year  stop_year  service_year  \n",
       "0  Gasoline      2014.0     2025.0           0.0  \n",
       "1  Gasoline      2014.0     2025.0           0.0  \n",
       "2  Gasoline      2014.0     2025.0           0.0  \n",
       "3  Gasoline      2014.0     2025.0           0.0  \n",
       "4  Gasoline      2014.0     2025.0           0.0  "
      ]
     },
     "execution_count": 6,
     "metadata": {},
     "output_type": "execute_result"
    }
   ],
   "source": [
    "df = calculate_service_year(merge_df)\n",
    "df.head()"
   ]
  },
  {
   "cell_type": "code",
   "execution_count": null,
   "metadata": {},
   "outputs": [
    {
     "data": {
      "text/plain": [
       "(527522, 19)"
      ]
     },
     "execution_count": 90,
     "metadata": {},
     "output_type": "execute_result"
    }
   ],
   "source": []
  },
  {
   "cell_type": "code",
   "execution_count": 70,
   "metadata": {},
   "outputs": [
    {
     "name": "stdout",
     "output_type": "stream",
     "text": [
      "[2014 2015 2022 2021 2023 2020 2018 2019 2013 2024] [2014. 2024. 2025.]\n"
     ]
    }
   ],
   "source": [
    "print(df['Model Year'].unique(), df['start_year'].unique())"
   ]
  },
  {
   "cell_type": "code",
   "execution_count": 87,
   "metadata": {},
   "outputs": [
    {
     "data": {
      "text/plain": [
       "array([2024.])"
      ]
     },
     "execution_count": 87,
     "metadata": {},
     "output_type": "execute_result"
    }
   ],
   "source": [
    "df[df['Model Year'] == 2013]['start_year'].unique()"
   ]
  }
 ],
 "metadata": {
  "kernelspec": {
   "display_name": ".venv",
   "language": "python",
   "name": "python3"
  },
  "language_info": {
   "codemirror_mode": {
    "name": "ipython",
    "version": 3
   },
   "file_extension": ".py",
   "mimetype": "text/x-python",
   "name": "python",
   "nbconvert_exporter": "python",
   "pygments_lexer": "ipython3",
   "version": "3.7.9"
  }
 },
 "nbformat": 4,
 "nbformat_minor": 2
}
